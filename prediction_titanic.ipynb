{
 "cells": [
  {
   "cell_type": "code",
   "execution_count": 25,
   "id": "30b6d7b3",
   "metadata": {},
   "outputs": [],
   "source": [
    "import numpy as np\n",
    "import pandas as pd\n",
    "%matplotlib inline"
   ]
  },
  {
   "cell_type": "code",
   "execution_count": 30,
   "id": "7d59be9d",
   "metadata": {},
   "outputs": [
    {
     "data": {
      "text/html": [
       "<div>\n",
       "<style scoped>\n",
       "    .dataframe tbody tr th:only-of-type {\n",
       "        vertical-align: middle;\n",
       "    }\n",
       "\n",
       "    .dataframe tbody tr th {\n",
       "        vertical-align: top;\n",
       "    }\n",
       "\n",
       "    .dataframe thead th {\n",
       "        text-align: right;\n",
       "    }\n",
       "</style>\n",
       "<table border=\"1\" class=\"dataframe\">\n",
       "  <thead>\n",
       "    <tr style=\"text-align: right;\">\n",
       "      <th></th>\n",
       "      <th>PassengerId</th>\n",
       "      <th>Survived</th>\n",
       "      <th>Pclass</th>\n",
       "      <th>Name</th>\n",
       "      <th>Sex</th>\n",
       "      <th>Age</th>\n",
       "      <th>SibSp</th>\n",
       "      <th>Parch</th>\n",
       "      <th>Ticket</th>\n",
       "      <th>Fare</th>\n",
       "      <th>Cabin</th>\n",
       "      <th>Embarked</th>\n",
       "    </tr>\n",
       "  </thead>\n",
       "  <tbody>\n",
       "    <tr>\n",
       "      <th>0</th>\n",
       "      <td>1</td>\n",
       "      <td>0</td>\n",
       "      <td>3</td>\n",
       "      <td>Braund, Mr. Owen Harris</td>\n",
       "      <td>male</td>\n",
       "      <td>22.0</td>\n",
       "      <td>1</td>\n",
       "      <td>0</td>\n",
       "      <td>A/5 21171</td>\n",
       "      <td>7.2500</td>\n",
       "      <td>NaN</td>\n",
       "      <td>S</td>\n",
       "    </tr>\n",
       "    <tr>\n",
       "      <th>1</th>\n",
       "      <td>2</td>\n",
       "      <td>1</td>\n",
       "      <td>1</td>\n",
       "      <td>Cumings, Mrs. John Bradley (Florence Briggs Th...</td>\n",
       "      <td>female</td>\n",
       "      <td>38.0</td>\n",
       "      <td>1</td>\n",
       "      <td>0</td>\n",
       "      <td>PC 17599</td>\n",
       "      <td>71.2833</td>\n",
       "      <td>C85</td>\n",
       "      <td>C</td>\n",
       "    </tr>\n",
       "    <tr>\n",
       "      <th>2</th>\n",
       "      <td>3</td>\n",
       "      <td>1</td>\n",
       "      <td>3</td>\n",
       "      <td>Heikkinen, Miss. Laina</td>\n",
       "      <td>female</td>\n",
       "      <td>26.0</td>\n",
       "      <td>0</td>\n",
       "      <td>0</td>\n",
       "      <td>STON/O2. 3101282</td>\n",
       "      <td>7.9250</td>\n",
       "      <td>NaN</td>\n",
       "      <td>S</td>\n",
       "    </tr>\n",
       "    <tr>\n",
       "      <th>3</th>\n",
       "      <td>4</td>\n",
       "      <td>1</td>\n",
       "      <td>1</td>\n",
       "      <td>Futrelle, Mrs. Jacques Heath (Lily May Peel)</td>\n",
       "      <td>female</td>\n",
       "      <td>35.0</td>\n",
       "      <td>1</td>\n",
       "      <td>0</td>\n",
       "      <td>113803</td>\n",
       "      <td>53.1000</td>\n",
       "      <td>C123</td>\n",
       "      <td>S</td>\n",
       "    </tr>\n",
       "    <tr>\n",
       "      <th>4</th>\n",
       "      <td>5</td>\n",
       "      <td>0</td>\n",
       "      <td>3</td>\n",
       "      <td>Allen, Mr. William Henry</td>\n",
       "      <td>male</td>\n",
       "      <td>35.0</td>\n",
       "      <td>0</td>\n",
       "      <td>0</td>\n",
       "      <td>373450</td>\n",
       "      <td>8.0500</td>\n",
       "      <td>NaN</td>\n",
       "      <td>S</td>\n",
       "    </tr>\n",
       "  </tbody>\n",
       "</table>\n",
       "</div>"
      ],
      "text/plain": [
       "   PassengerId  Survived  Pclass  \\\n",
       "0            1         0       3   \n",
       "1            2         1       1   \n",
       "2            3         1       3   \n",
       "3            4         1       1   \n",
       "4            5         0       3   \n",
       "\n",
       "                                                Name     Sex   Age  SibSp  \\\n",
       "0                            Braund, Mr. Owen Harris    male  22.0      1   \n",
       "1  Cumings, Mrs. John Bradley (Florence Briggs Th...  female  38.0      1   \n",
       "2                             Heikkinen, Miss. Laina  female  26.0      0   \n",
       "3       Futrelle, Mrs. Jacques Heath (Lily May Peel)  female  35.0      1   \n",
       "4                           Allen, Mr. William Henry    male  35.0      0   \n",
       "\n",
       "   Parch            Ticket     Fare Cabin Embarked  \n",
       "0      0         A/5 21171   7.2500   NaN        S  \n",
       "1      0          PC 17599  71.2833   C85        C  \n",
       "2      0  STON/O2. 3101282   7.9250   NaN        S  \n",
       "3      0            113803  53.1000  C123        S  \n",
       "4      0            373450   8.0500   NaN        S  "
      ]
     },
     "execution_count": 30,
     "metadata": {},
     "output_type": "execute_result"
    }
   ],
   "source": [
    "df = pd.read_csv('train.csv')\n",
    "df.head()"
   ]
  },
  {
   "cell_type": "code",
   "execution_count": 21,
   "id": "147c44ed",
   "metadata": {},
   "outputs": [
    {
     "name": "stdout",
     "output_type": "stream",
     "text": [
      "<class 'pandas.core.frame.DataFrame'>\n",
      "RangeIndex: 891 entries, 0 to 890\n",
      "Data columns (total 14 columns):\n",
      " #   Column       Non-Null Count  Dtype  \n",
      "---  ------       --------------  -----  \n",
      " 0   PassengerId  891 non-null    int64  \n",
      " 1   Survived     891 non-null    int64  \n",
      " 2   Pclass       891 non-null    int64  \n",
      " 3   Name         891 non-null    object \n",
      " 4   Sex          891 non-null    object \n",
      " 5   Age          714 non-null    float64\n",
      " 6   SibSp        891 non-null    int64  \n",
      " 7   Parch        891 non-null    int64  \n",
      " 8   Ticket       891 non-null    object \n",
      " 9   Fare         891 non-null    float64\n",
      " 10  Cabin        204 non-null    object \n",
      " 11  Embarked     889 non-null    object \n",
      " 12  test         891 non-null    int64  \n",
      " 13  tarif        891 non-null    object \n",
      "dtypes: float64(2), int64(6), object(6)\n",
      "memory usage: 97.6+ KB\n"
     ]
    }
   ],
   "source": [
    "df.info()"
   ]
  },
  {
   "cell_type": "code",
   "execution_count": 22,
   "id": "9f63aed2",
   "metadata": {},
   "outputs": [
    {
     "data": {
      "text/html": [
       "<div>\n",
       "<style scoped>\n",
       "    .dataframe tbody tr th:only-of-type {\n",
       "        vertical-align: middle;\n",
       "    }\n",
       "\n",
       "    .dataframe tbody tr th {\n",
       "        vertical-align: top;\n",
       "    }\n",
       "\n",
       "    .dataframe thead th {\n",
       "        text-align: right;\n",
       "    }\n",
       "</style>\n",
       "<table border=\"1\" class=\"dataframe\">\n",
       "  <thead>\n",
       "    <tr style=\"text-align: right;\">\n",
       "      <th></th>\n",
       "      <th>PassengerId</th>\n",
       "      <th>Survived</th>\n",
       "      <th>Pclass</th>\n",
       "      <th>Age</th>\n",
       "      <th>SibSp</th>\n",
       "      <th>Parch</th>\n",
       "      <th>Fare</th>\n",
       "      <th>test</th>\n",
       "    </tr>\n",
       "  </thead>\n",
       "  <tbody>\n",
       "    <tr>\n",
       "      <th>count</th>\n",
       "      <td>891.000000</td>\n",
       "      <td>891.000000</td>\n",
       "      <td>891.000000</td>\n",
       "      <td>714.000000</td>\n",
       "      <td>891.000000</td>\n",
       "      <td>891.000000</td>\n",
       "      <td>891.000000</td>\n",
       "      <td>891.000000</td>\n",
       "    </tr>\n",
       "    <tr>\n",
       "      <th>mean</th>\n",
       "      <td>446.000000</td>\n",
       "      <td>0.383838</td>\n",
       "      <td>2.308642</td>\n",
       "      <td>29.699118</td>\n",
       "      <td>0.523008</td>\n",
       "      <td>0.381594</td>\n",
       "      <td>27.027169</td>\n",
       "      <td>0.904602</td>\n",
       "    </tr>\n",
       "    <tr>\n",
       "      <th>std</th>\n",
       "      <td>257.353842</td>\n",
       "      <td>0.486592</td>\n",
       "      <td>0.836071</td>\n",
       "      <td>14.526497</td>\n",
       "      <td>1.102743</td>\n",
       "      <td>0.806057</td>\n",
       "      <td>27.296632</td>\n",
       "      <td>1.613459</td>\n",
       "    </tr>\n",
       "    <tr>\n",
       "      <th>min</th>\n",
       "      <td>1.000000</td>\n",
       "      <td>0.000000</td>\n",
       "      <td>1.000000</td>\n",
       "      <td>0.420000</td>\n",
       "      <td>0.000000</td>\n",
       "      <td>0.000000</td>\n",
       "      <td>0.000000</td>\n",
       "      <td>0.000000</td>\n",
       "    </tr>\n",
       "    <tr>\n",
       "      <th>25%</th>\n",
       "      <td>223.500000</td>\n",
       "      <td>0.000000</td>\n",
       "      <td>2.000000</td>\n",
       "      <td>20.125000</td>\n",
       "      <td>0.000000</td>\n",
       "      <td>0.000000</td>\n",
       "      <td>7.910400</td>\n",
       "      <td>0.000000</td>\n",
       "    </tr>\n",
       "    <tr>\n",
       "      <th>50%</th>\n",
       "      <td>446.000000</td>\n",
       "      <td>0.000000</td>\n",
       "      <td>3.000000</td>\n",
       "      <td>28.000000</td>\n",
       "      <td>0.000000</td>\n",
       "      <td>0.000000</td>\n",
       "      <td>14.454200</td>\n",
       "      <td>0.000000</td>\n",
       "    </tr>\n",
       "    <tr>\n",
       "      <th>75%</th>\n",
       "      <td>668.500000</td>\n",
       "      <td>1.000000</td>\n",
       "      <td>3.000000</td>\n",
       "      <td>38.000000</td>\n",
       "      <td>1.000000</td>\n",
       "      <td>0.000000</td>\n",
       "      <td>31.000000</td>\n",
       "      <td>1.000000</td>\n",
       "    </tr>\n",
       "    <tr>\n",
       "      <th>max</th>\n",
       "      <td>891.000000</td>\n",
       "      <td>1.000000</td>\n",
       "      <td>3.000000</td>\n",
       "      <td>80.000000</td>\n",
       "      <td>8.000000</td>\n",
       "      <td>6.000000</td>\n",
       "      <td>100.000000</td>\n",
       "      <td>10.000000</td>\n",
       "    </tr>\n",
       "  </tbody>\n",
       "</table>\n",
       "</div>"
      ],
      "text/plain": [
       "       PassengerId    Survived      Pclass         Age       SibSp  \\\n",
       "count   891.000000  891.000000  891.000000  714.000000  891.000000   \n",
       "mean    446.000000    0.383838    2.308642   29.699118    0.523008   \n",
       "std     257.353842    0.486592    0.836071   14.526497    1.102743   \n",
       "min       1.000000    0.000000    1.000000    0.420000    0.000000   \n",
       "25%     223.500000    0.000000    2.000000   20.125000    0.000000   \n",
       "50%     446.000000    0.000000    3.000000   28.000000    0.000000   \n",
       "75%     668.500000    1.000000    3.000000   38.000000    1.000000   \n",
       "max     891.000000    1.000000    3.000000   80.000000    8.000000   \n",
       "\n",
       "            Parch        Fare        test  \n",
       "count  891.000000  891.000000  891.000000  \n",
       "mean     0.381594   27.027169    0.904602  \n",
       "std      0.806057   27.296632    1.613459  \n",
       "min      0.000000    0.000000    0.000000  \n",
       "25%      0.000000    7.910400    0.000000  \n",
       "50%      0.000000   14.454200    0.000000  \n",
       "75%      0.000000   31.000000    1.000000  \n",
       "max      6.000000  100.000000   10.000000  "
      ]
     },
     "execution_count": 22,
     "metadata": {},
     "output_type": "execute_result"
    }
   ],
   "source": [
    "df.describe()"
   ]
  },
  {
   "cell_type": "markdown",
   "id": "8a6ad5ff",
   "metadata": {},
   "source": [
    "## TD Titanic"
   ]
  },
  {
   "cell_type": "markdown",
   "id": "509b8969",
   "metadata": {},
   "source": [
    "### Partie 1"
   ]
  },
  {
   "cell_type": "markdown",
   "id": "cb1c684c",
   "metadata": {},
   "source": [
    "#### 1. Passagers dont la Pclass est 2 ou 3"
   ]
  },
  {
   "cell_type": "code",
   "execution_count": 6,
   "id": "32cd368c",
   "metadata": {},
   "outputs": [
    {
     "data": {
      "text/html": [
       "<div>\n",
       "<style scoped>\n",
       "    .dataframe tbody tr th:only-of-type {\n",
       "        vertical-align: middle;\n",
       "    }\n",
       "\n",
       "    .dataframe tbody tr th {\n",
       "        vertical-align: top;\n",
       "    }\n",
       "\n",
       "    .dataframe thead th {\n",
       "        text-align: right;\n",
       "    }\n",
       "</style>\n",
       "<table border=\"1\" class=\"dataframe\">\n",
       "  <thead>\n",
       "    <tr style=\"text-align: right;\">\n",
       "      <th></th>\n",
       "      <th>PassengerId</th>\n",
       "      <th>Survived</th>\n",
       "      <th>Pclass</th>\n",
       "      <th>Name</th>\n",
       "      <th>Sex</th>\n",
       "      <th>Age</th>\n",
       "      <th>SibSp</th>\n",
       "      <th>Parch</th>\n",
       "      <th>Ticket</th>\n",
       "      <th>Fare</th>\n",
       "      <th>Cabin</th>\n",
       "      <th>Embarked</th>\n",
       "    </tr>\n",
       "  </thead>\n",
       "  <tbody>\n",
       "    <tr>\n",
       "      <th>0</th>\n",
       "      <td>1</td>\n",
       "      <td>0</td>\n",
       "      <td>3</td>\n",
       "      <td>Braund, Mr. Owen Harris</td>\n",
       "      <td>male</td>\n",
       "      <td>22.0</td>\n",
       "      <td>1</td>\n",
       "      <td>0</td>\n",
       "      <td>A/5 21171</td>\n",
       "      <td>7.2500</td>\n",
       "      <td>NaN</td>\n",
       "      <td>S</td>\n",
       "    </tr>\n",
       "    <tr>\n",
       "      <th>2</th>\n",
       "      <td>3</td>\n",
       "      <td>1</td>\n",
       "      <td>3</td>\n",
       "      <td>Heikkinen, Miss. Laina</td>\n",
       "      <td>female</td>\n",
       "      <td>26.0</td>\n",
       "      <td>0</td>\n",
       "      <td>0</td>\n",
       "      <td>STON/O2. 3101282</td>\n",
       "      <td>7.9250</td>\n",
       "      <td>NaN</td>\n",
       "      <td>S</td>\n",
       "    </tr>\n",
       "    <tr>\n",
       "      <th>4</th>\n",
       "      <td>5</td>\n",
       "      <td>0</td>\n",
       "      <td>3</td>\n",
       "      <td>Allen, Mr. William Henry</td>\n",
       "      <td>male</td>\n",
       "      <td>35.0</td>\n",
       "      <td>0</td>\n",
       "      <td>0</td>\n",
       "      <td>373450</td>\n",
       "      <td>8.0500</td>\n",
       "      <td>NaN</td>\n",
       "      <td>S</td>\n",
       "    </tr>\n",
       "    <tr>\n",
       "      <th>5</th>\n",
       "      <td>6</td>\n",
       "      <td>0</td>\n",
       "      <td>3</td>\n",
       "      <td>Moran, Mr. James</td>\n",
       "      <td>male</td>\n",
       "      <td>NaN</td>\n",
       "      <td>0</td>\n",
       "      <td>0</td>\n",
       "      <td>330877</td>\n",
       "      <td>8.4583</td>\n",
       "      <td>NaN</td>\n",
       "      <td>Q</td>\n",
       "    </tr>\n",
       "    <tr>\n",
       "      <th>7</th>\n",
       "      <td>8</td>\n",
       "      <td>0</td>\n",
       "      <td>3</td>\n",
       "      <td>Palsson, Master. Gosta Leonard</td>\n",
       "      <td>male</td>\n",
       "      <td>2.0</td>\n",
       "      <td>3</td>\n",
       "      <td>1</td>\n",
       "      <td>349909</td>\n",
       "      <td>21.0750</td>\n",
       "      <td>NaN</td>\n",
       "      <td>S</td>\n",
       "    </tr>\n",
       "    <tr>\n",
       "      <th>8</th>\n",
       "      <td>9</td>\n",
       "      <td>1</td>\n",
       "      <td>3</td>\n",
       "      <td>Johnson, Mrs. Oscar W (Elisabeth Vilhelmina Berg)</td>\n",
       "      <td>female</td>\n",
       "      <td>27.0</td>\n",
       "      <td>0</td>\n",
       "      <td>2</td>\n",
       "      <td>347742</td>\n",
       "      <td>11.1333</td>\n",
       "      <td>NaN</td>\n",
       "      <td>S</td>\n",
       "    </tr>\n",
       "    <tr>\n",
       "      <th>9</th>\n",
       "      <td>10</td>\n",
       "      <td>1</td>\n",
       "      <td>2</td>\n",
       "      <td>Nasser, Mrs. Nicholas (Adele Achem)</td>\n",
       "      <td>female</td>\n",
       "      <td>14.0</td>\n",
       "      <td>1</td>\n",
       "      <td>0</td>\n",
       "      <td>237736</td>\n",
       "      <td>30.0708</td>\n",
       "      <td>NaN</td>\n",
       "      <td>C</td>\n",
       "    </tr>\n",
       "    <tr>\n",
       "      <th>10</th>\n",
       "      <td>11</td>\n",
       "      <td>1</td>\n",
       "      <td>3</td>\n",
       "      <td>Sandstrom, Miss. Marguerite Rut</td>\n",
       "      <td>female</td>\n",
       "      <td>4.0</td>\n",
       "      <td>1</td>\n",
       "      <td>1</td>\n",
       "      <td>PP 9549</td>\n",
       "      <td>16.7000</td>\n",
       "      <td>G6</td>\n",
       "      <td>S</td>\n",
       "    </tr>\n",
       "    <tr>\n",
       "      <th>12</th>\n",
       "      <td>13</td>\n",
       "      <td>0</td>\n",
       "      <td>3</td>\n",
       "      <td>Saundercock, Mr. William Henry</td>\n",
       "      <td>male</td>\n",
       "      <td>20.0</td>\n",
       "      <td>0</td>\n",
       "      <td>0</td>\n",
       "      <td>A/5. 2151</td>\n",
       "      <td>8.0500</td>\n",
       "      <td>NaN</td>\n",
       "      <td>S</td>\n",
       "    </tr>\n",
       "    <tr>\n",
       "      <th>13</th>\n",
       "      <td>14</td>\n",
       "      <td>0</td>\n",
       "      <td>3</td>\n",
       "      <td>Andersson, Mr. Anders Johan</td>\n",
       "      <td>male</td>\n",
       "      <td>39.0</td>\n",
       "      <td>1</td>\n",
       "      <td>5</td>\n",
       "      <td>347082</td>\n",
       "      <td>31.2750</td>\n",
       "      <td>NaN</td>\n",
       "      <td>S</td>\n",
       "    </tr>\n",
       "  </tbody>\n",
       "</table>\n",
       "</div>"
      ],
      "text/plain": [
       "    PassengerId  Survived  Pclass  \\\n",
       "0             1         0       3   \n",
       "2             3         1       3   \n",
       "4             5         0       3   \n",
       "5             6         0       3   \n",
       "7             8         0       3   \n",
       "8             9         1       3   \n",
       "9            10         1       2   \n",
       "10           11         1       3   \n",
       "12           13         0       3   \n",
       "13           14         0       3   \n",
       "\n",
       "                                                 Name     Sex   Age  SibSp  \\\n",
       "0                             Braund, Mr. Owen Harris    male  22.0      1   \n",
       "2                              Heikkinen, Miss. Laina  female  26.0      0   \n",
       "4                            Allen, Mr. William Henry    male  35.0      0   \n",
       "5                                    Moran, Mr. James    male   NaN      0   \n",
       "7                      Palsson, Master. Gosta Leonard    male   2.0      3   \n",
       "8   Johnson, Mrs. Oscar W (Elisabeth Vilhelmina Berg)  female  27.0      0   \n",
       "9                 Nasser, Mrs. Nicholas (Adele Achem)  female  14.0      1   \n",
       "10                    Sandstrom, Miss. Marguerite Rut  female   4.0      1   \n",
       "12                     Saundercock, Mr. William Henry    male  20.0      0   \n",
       "13                        Andersson, Mr. Anders Johan    male  39.0      1   \n",
       "\n",
       "    Parch            Ticket     Fare Cabin Embarked  \n",
       "0       0         A/5 21171   7.2500   NaN        S  \n",
       "2       0  STON/O2. 3101282   7.9250   NaN        S  \n",
       "4       0            373450   8.0500   NaN        S  \n",
       "5       0            330877   8.4583   NaN        Q  \n",
       "7       1            349909  21.0750   NaN        S  \n",
       "8       2            347742  11.1333   NaN        S  \n",
       "9       0            237736  30.0708   NaN        C  \n",
       "10      1           PP 9549  16.7000    G6        S  \n",
       "12      0         A/5. 2151   8.0500   NaN        S  \n",
       "13      5            347082  31.2750   NaN        S  "
      ]
     },
     "execution_count": 6,
     "metadata": {},
     "output_type": "execute_result"
    }
   ],
   "source": [
    "df[(df. Pclass == 2) | (df.Pclass == 3)].head(10)"
   ]
  },
  {
   "cell_type": "markdown",
   "id": "b9b6da10",
   "metadata": {},
   "source": [
    "#### 2. Nom, sexe et âge des passagers masculins d'âge supérieur à 70 ans"
   ]
  },
  {
   "cell_type": "code",
   "execution_count": 7,
   "id": "bcad6d21",
   "metadata": {},
   "outputs": [
    {
     "data": {
      "text/html": [
       "<div>\n",
       "<style scoped>\n",
       "    .dataframe tbody tr th:only-of-type {\n",
       "        vertical-align: middle;\n",
       "    }\n",
       "\n",
       "    .dataframe tbody tr th {\n",
       "        vertical-align: top;\n",
       "    }\n",
       "\n",
       "    .dataframe thead th {\n",
       "        text-align: right;\n",
       "    }\n",
       "</style>\n",
       "<table border=\"1\" class=\"dataframe\">\n",
       "  <thead>\n",
       "    <tr style=\"text-align: right;\">\n",
       "      <th></th>\n",
       "      <th>Name</th>\n",
       "      <th>Sex</th>\n",
       "      <th>Age</th>\n",
       "    </tr>\n",
       "  </thead>\n",
       "  <tbody>\n",
       "    <tr>\n",
       "      <th>96</th>\n",
       "      <td>Goldschmidt, Mr. George B</td>\n",
       "      <td>male</td>\n",
       "      <td>71.0</td>\n",
       "    </tr>\n",
       "    <tr>\n",
       "      <th>116</th>\n",
       "      <td>Connors, Mr. Patrick</td>\n",
       "      <td>male</td>\n",
       "      <td>70.5</td>\n",
       "    </tr>\n",
       "    <tr>\n",
       "      <th>493</th>\n",
       "      <td>Artagaveytia, Mr. Ramon</td>\n",
       "      <td>male</td>\n",
       "      <td>71.0</td>\n",
       "    </tr>\n",
       "    <tr>\n",
       "      <th>630</th>\n",
       "      <td>Barkworth, Mr. Algernon Henry Wilson</td>\n",
       "      <td>male</td>\n",
       "      <td>80.0</td>\n",
       "    </tr>\n",
       "    <tr>\n",
       "      <th>851</th>\n",
       "      <td>Svensson, Mr. Johan</td>\n",
       "      <td>male</td>\n",
       "      <td>74.0</td>\n",
       "    </tr>\n",
       "  </tbody>\n",
       "</table>\n",
       "</div>"
      ],
      "text/plain": [
       "                                     Name   Sex   Age\n",
       "96              Goldschmidt, Mr. George B  male  71.0\n",
       "116                  Connors, Mr. Patrick  male  70.5\n",
       "493               Artagaveytia, Mr. Ramon  male  71.0\n",
       "630  Barkworth, Mr. Algernon Henry Wilson  male  80.0\n",
       "851                   Svensson, Mr. Johan  male  74.0"
      ]
     },
     "execution_count": 7,
     "metadata": {},
     "output_type": "execute_result"
    }
   ],
   "source": [
    "df[(df.Sex == 'male') & (df.Age > 70)][['Name', 'Sex', 'Age']]"
   ]
  },
  {
   "cell_type": "markdown",
   "id": "803269a0",
   "metadata": {},
   "source": [
    "#### 3. Nombre de passagers dont le n° de cabine est connu"
   ]
  },
  {
   "cell_type": "code",
   "execution_count": 8,
   "id": "25ba7b58",
   "metadata": {},
   "outputs": [
    {
     "data": {
      "text/plain": [
       "204"
      ]
     },
     "execution_count": 8,
     "metadata": {},
     "output_type": "execute_result"
    }
   ],
   "source": [
    "len(df[df.Cabin.notnull()])"
   ]
  },
  {
   "cell_type": "markdown",
   "id": "093327c7",
   "metadata": {},
   "source": [
    "#### 4. Nom des passagers dont l'âge est inconnu"
   ]
  },
  {
   "cell_type": "code",
   "execution_count": 9,
   "id": "f9978f4c",
   "metadata": {},
   "outputs": [
    {
     "data": {
      "text/plain": [
       "5                                   Moran, Mr. James\n",
       "17                      Williams, Mr. Charles Eugene\n",
       "19                           Masselmani, Mrs. Fatima\n",
       "26                           Emir, Mr. Farred Chehab\n",
       "28                     O'Dwyer, Miss. Ellen \"Nellie\"\n",
       "29                               Todoroff, Mr. Lalio\n",
       "31    Spencer, Mrs. William Augustus (Marie Eugenie)\n",
       "32                          Glynn, Miss. Mary Agatha\n",
       "36                                  Mamee, Mr. Hanna\n",
       "42                               Kraeff, Mr. Theodor\n",
       "Name: Name, dtype: object"
      ]
     },
     "execution_count": 9,
     "metadata": {},
     "output_type": "execute_result"
    }
   ],
   "source": [
    "df[df.Age.isnull()]['Name'].head(10)"
   ]
  },
  {
   "cell_type": "markdown",
   "id": "f043065d",
   "metadata": {},
   "source": [
    "#### 5. Age moyen des passagers (dont l'âge est connu), arrondi à l'entier près"
   ]
  },
  {
   "cell_type": "code",
   "execution_count": 10,
   "id": "fcdbf47c",
   "metadata": {},
   "outputs": [
    {
     "data": {
      "text/plain": [
       "30"
      ]
     },
     "execution_count": 10,
     "metadata": {},
     "output_type": "execute_result"
    }
   ],
   "source": [
    "round(df.Age.mean())"
   ]
  },
  {
   "cell_type": "markdown",
   "id": "a80fac57",
   "metadata": {},
   "source": [
    "#### 6. Liste des Pclass (dans l'ordre : 1, 2, 3) avec pour chacune : le nombre de passagers."
   ]
  },
  {
   "cell_type": "code",
   "execution_count": 11,
   "id": "a218df52",
   "metadata": {},
   "outputs": [
    {
     "data": {
      "text/plain": [
       "1    216\n",
       "2    184\n",
       "3    491\n",
       "Name: Pclass, dtype: int64"
      ]
     },
     "execution_count": 11,
     "metadata": {},
     "output_type": "execute_result"
    }
   ],
   "source": [
    "df.Pclass.value_counts().sort_index()"
   ]
  },
  {
   "cell_type": "markdown",
   "id": "65f1c6cc",
   "metadata": {},
   "source": [
    "#### 7. Quelles sont les différentes valeurs distinctes de la colonne Sex ? "
   ]
  },
  {
   "cell_type": "code",
   "execution_count": 12,
   "id": "2d0e7ae3",
   "metadata": {},
   "outputs": [
    {
     "data": {
      "text/plain": [
       "array(['male', 'female'], dtype=object)"
      ]
     },
     "execution_count": 12,
     "metadata": {},
     "output_type": "execute_result"
    }
   ],
   "source": [
    "df.Sex.unique()"
   ]
  },
  {
   "cell_type": "markdown",
   "id": "314527d9",
   "metadata": {},
   "source": [
    "#### 8. Nom des passagers, tout en majuscules"
   ]
  },
  {
   "cell_type": "code",
   "execution_count": 13,
   "id": "e9a627d1",
   "metadata": {},
   "outputs": [
    {
     "data": {
      "text/plain": [
       "0                              BRAUND, MR. OWEN HARRIS\n",
       "1    CUMINGS, MRS. JOHN BRADLEY (FLORENCE BRIGGS TH...\n",
       "2                               HEIKKINEN, MISS. LAINA\n",
       "3         FUTRELLE, MRS. JACQUES HEATH (LILY MAY PEEL)\n",
       "4                             ALLEN, MR. WILLIAM HENRY\n",
       "Name: Name, dtype: object"
      ]
     },
     "execution_count": 13,
     "metadata": {},
     "output_type": "execute_result"
    }
   ],
   "source": [
    "nom_maj = df.Name.str.upper()\n",
    "nom_maj.head()"
   ]
  },
  {
   "cell_type": "markdown",
   "id": "78adfe81",
   "metadata": {},
   "source": [
    "#### 9. Nom des passagers contenant \"Miss.\""
   ]
  },
  {
   "cell_type": "code",
   "execution_count": 14,
   "id": "5d453899",
   "metadata": {},
   "outputs": [
    {
     "data": {
      "text/plain": [
       "2                   Heikkinen, Miss. Laina\n",
       "10         Sandstrom, Miss. Marguerite Rut\n",
       "11                Bonnell, Miss. Elizabeth\n",
       "14    Vestrom, Miss. Hulda Amanda Adolfina\n",
       "22             McGowan, Miss. Anna \"Annie\"\n",
       "Name: Name, dtype: object"
      ]
     },
     "execution_count": 14,
     "metadata": {},
     "output_type": "execute_result"
    }
   ],
   "source": [
    "df[df.Name.str.contains(\"Miss.\")]['Name'].head()"
   ]
  },
  {
   "cell_type": "markdown",
   "id": "12a81134",
   "metadata": {},
   "source": [
    "#### 10. Longueur moyenne de l'attribut Name"
   ]
  },
  {
   "cell_type": "code",
   "execution_count": 15,
   "id": "a4bd1456",
   "metadata": {},
   "outputs": [
    {
     "data": {
      "text/plain": [
       "26.9652076318743"
      ]
     },
     "execution_count": 15,
     "metadata": {},
     "output_type": "execute_result"
    }
   ],
   "source": [
    "df.Name.str.len().mean()"
   ]
  },
  {
   "cell_type": "markdown",
   "id": "5729b135",
   "metadata": {},
   "source": [
    "#### 11. Liste des valeurs du champ Ticket qui sont de forme totalement numérique (contre-exemple : 'PC 17599')"
   ]
  },
  {
   "cell_type": "code",
   "execution_count": 16,
   "id": "23996acc",
   "metadata": {},
   "outputs": [
    {
     "data": {
      "text/plain": [
       "3     113803\n",
       "4     373450\n",
       "5     330877\n",
       "6      17463\n",
       "7     349909\n",
       "8     347742\n",
       "9     237736\n",
       "11    113783\n",
       "13    347082\n",
       "14    350406\n",
       "Name: Ticket, dtype: object"
      ]
     },
     "execution_count": 16,
     "metadata": {},
     "output_type": "execute_result"
    }
   ],
   "source": [
    "df[df.Ticket.str.isnumeric()]['Ticket'].head(10)"
   ]
  },
  {
   "cell_type": "markdown",
   "id": "1f1a5994",
   "metadata": {},
   "source": [
    "#### 12. Ajouter une colonne 'test' au DataFrame des passagers qui est la somme des colonnes SibSp et Parch"
   ]
  },
  {
   "cell_type": "code",
   "execution_count": 17,
   "id": "bc4d0336",
   "metadata": {},
   "outputs": [
    {
     "data": {
      "text/html": [
       "<div>\n",
       "<style scoped>\n",
       "    .dataframe tbody tr th:only-of-type {\n",
       "        vertical-align: middle;\n",
       "    }\n",
       "\n",
       "    .dataframe tbody tr th {\n",
       "        vertical-align: top;\n",
       "    }\n",
       "\n",
       "    .dataframe thead th {\n",
       "        text-align: right;\n",
       "    }\n",
       "</style>\n",
       "<table border=\"1\" class=\"dataframe\">\n",
       "  <thead>\n",
       "    <tr style=\"text-align: right;\">\n",
       "      <th></th>\n",
       "      <th>PassengerId</th>\n",
       "      <th>Survived</th>\n",
       "      <th>Pclass</th>\n",
       "      <th>Name</th>\n",
       "      <th>Sex</th>\n",
       "      <th>Age</th>\n",
       "      <th>SibSp</th>\n",
       "      <th>Parch</th>\n",
       "      <th>Ticket</th>\n",
       "      <th>Fare</th>\n",
       "      <th>Cabin</th>\n",
       "      <th>Embarked</th>\n",
       "      <th>test</th>\n",
       "    </tr>\n",
       "  </thead>\n",
       "  <tbody>\n",
       "    <tr>\n",
       "      <th>0</th>\n",
       "      <td>1</td>\n",
       "      <td>0</td>\n",
       "      <td>3</td>\n",
       "      <td>Braund, Mr. Owen Harris</td>\n",
       "      <td>male</td>\n",
       "      <td>22.0</td>\n",
       "      <td>1</td>\n",
       "      <td>0</td>\n",
       "      <td>A/5 21171</td>\n",
       "      <td>7.2500</td>\n",
       "      <td>NaN</td>\n",
       "      <td>S</td>\n",
       "      <td>1</td>\n",
       "    </tr>\n",
       "    <tr>\n",
       "      <th>1</th>\n",
       "      <td>2</td>\n",
       "      <td>1</td>\n",
       "      <td>1</td>\n",
       "      <td>Cumings, Mrs. John Bradley (Florence Briggs Th...</td>\n",
       "      <td>female</td>\n",
       "      <td>38.0</td>\n",
       "      <td>1</td>\n",
       "      <td>0</td>\n",
       "      <td>PC 17599</td>\n",
       "      <td>71.2833</td>\n",
       "      <td>C85</td>\n",
       "      <td>C</td>\n",
       "      <td>1</td>\n",
       "    </tr>\n",
       "    <tr>\n",
       "      <th>2</th>\n",
       "      <td>3</td>\n",
       "      <td>1</td>\n",
       "      <td>3</td>\n",
       "      <td>Heikkinen, Miss. Laina</td>\n",
       "      <td>female</td>\n",
       "      <td>26.0</td>\n",
       "      <td>0</td>\n",
       "      <td>0</td>\n",
       "      <td>STON/O2. 3101282</td>\n",
       "      <td>7.9250</td>\n",
       "      <td>NaN</td>\n",
       "      <td>S</td>\n",
       "      <td>0</td>\n",
       "    </tr>\n",
       "    <tr>\n",
       "      <th>3</th>\n",
       "      <td>4</td>\n",
       "      <td>1</td>\n",
       "      <td>1</td>\n",
       "      <td>Futrelle, Mrs. Jacques Heath (Lily May Peel)</td>\n",
       "      <td>female</td>\n",
       "      <td>35.0</td>\n",
       "      <td>1</td>\n",
       "      <td>0</td>\n",
       "      <td>113803</td>\n",
       "      <td>53.1000</td>\n",
       "      <td>C123</td>\n",
       "      <td>S</td>\n",
       "      <td>1</td>\n",
       "    </tr>\n",
       "    <tr>\n",
       "      <th>4</th>\n",
       "      <td>5</td>\n",
       "      <td>0</td>\n",
       "      <td>3</td>\n",
       "      <td>Allen, Mr. William Henry</td>\n",
       "      <td>male</td>\n",
       "      <td>35.0</td>\n",
       "      <td>0</td>\n",
       "      <td>0</td>\n",
       "      <td>373450</td>\n",
       "      <td>8.0500</td>\n",
       "      <td>NaN</td>\n",
       "      <td>S</td>\n",
       "      <td>0</td>\n",
       "    </tr>\n",
       "  </tbody>\n",
       "</table>\n",
       "</div>"
      ],
      "text/plain": [
       "   PassengerId  Survived  Pclass  \\\n",
       "0            1         0       3   \n",
       "1            2         1       1   \n",
       "2            3         1       3   \n",
       "3            4         1       1   \n",
       "4            5         0       3   \n",
       "\n",
       "                                                Name     Sex   Age  SibSp  \\\n",
       "0                            Braund, Mr. Owen Harris    male  22.0      1   \n",
       "1  Cumings, Mrs. John Bradley (Florence Briggs Th...  female  38.0      1   \n",
       "2                             Heikkinen, Miss. Laina  female  26.0      0   \n",
       "3       Futrelle, Mrs. Jacques Heath (Lily May Peel)  female  35.0      1   \n",
       "4                           Allen, Mr. William Henry    male  35.0      0   \n",
       "\n",
       "   Parch            Ticket     Fare Cabin Embarked  test  \n",
       "0      0         A/5 21171   7.2500   NaN        S     1  \n",
       "1      0          PC 17599  71.2833   C85        C     1  \n",
       "2      0  STON/O2. 3101282   7.9250   NaN        S     0  \n",
       "3      0            113803  53.1000  C123        S     1  \n",
       "4      0            373450   8.0500   NaN        S     0  "
      ]
     },
     "execution_count": 17,
     "metadata": {},
     "output_type": "execute_result"
    }
   ],
   "source": [
    "df['test'] = df['SibSp'] + df['Parch']\n",
    "df.head()"
   ]
  },
  {
   "cell_type": "markdown",
   "id": "1a4ed62e",
   "metadata": {},
   "source": [
    "#### 13. Mettre à 100 la valeur du champ Fare de tous les passagers pour lesquelq la valeur de ce champ est supérieure à 100.\n",
    "Indication : utiliser <code>loc</code>"
   ]
  },
  {
   "cell_type": "code",
   "execution_count": 18,
   "id": "93a706fc",
   "metadata": {},
   "outputs": [],
   "source": [
    "df.loc[df.Fare > 100, 'Fare'] = 100"
   ]
  },
  {
   "cell_type": "markdown",
   "id": "41d0ef60",
   "metadata": {},
   "source": [
    "#### 14. Ajouter une colonne 'tarif' au DataFrame des passagers qui vaut 'élevé' si Fare est supérieur à 50 et 'bon marché' sinon\n",
    "Indication : utiliser numpy.where(<i>condition</i>, <i>valeur-si-vrai</i>, <i>valeur-si-faux</i>)"
   ]
  },
  {
   "cell_type": "code",
   "execution_count": 19,
   "id": "3dc64336",
   "metadata": {},
   "outputs": [
    {
     "data": {
      "text/html": [
       "<div>\n",
       "<style scoped>\n",
       "    .dataframe tbody tr th:only-of-type {\n",
       "        vertical-align: middle;\n",
       "    }\n",
       "\n",
       "    .dataframe tbody tr th {\n",
       "        vertical-align: top;\n",
       "    }\n",
       "\n",
       "    .dataframe thead th {\n",
       "        text-align: right;\n",
       "    }\n",
       "</style>\n",
       "<table border=\"1\" class=\"dataframe\">\n",
       "  <thead>\n",
       "    <tr style=\"text-align: right;\">\n",
       "      <th></th>\n",
       "      <th>PassengerId</th>\n",
       "      <th>Survived</th>\n",
       "      <th>Pclass</th>\n",
       "      <th>Name</th>\n",
       "      <th>Sex</th>\n",
       "      <th>Age</th>\n",
       "      <th>SibSp</th>\n",
       "      <th>Parch</th>\n",
       "      <th>Ticket</th>\n",
       "      <th>Fare</th>\n",
       "      <th>Cabin</th>\n",
       "      <th>Embarked</th>\n",
       "      <th>test</th>\n",
       "      <th>tarif</th>\n",
       "    </tr>\n",
       "  </thead>\n",
       "  <tbody>\n",
       "    <tr>\n",
       "      <th>0</th>\n",
       "      <td>1</td>\n",
       "      <td>0</td>\n",
       "      <td>3</td>\n",
       "      <td>Braund, Mr. Owen Harris</td>\n",
       "      <td>male</td>\n",
       "      <td>22.0</td>\n",
       "      <td>1</td>\n",
       "      <td>0</td>\n",
       "      <td>A/5 21171</td>\n",
       "      <td>7.2500</td>\n",
       "      <td>NaN</td>\n",
       "      <td>S</td>\n",
       "      <td>1</td>\n",
       "      <td>bon marché</td>\n",
       "    </tr>\n",
       "    <tr>\n",
       "      <th>1</th>\n",
       "      <td>2</td>\n",
       "      <td>1</td>\n",
       "      <td>1</td>\n",
       "      <td>Cumings, Mrs. John Bradley (Florence Briggs Th...</td>\n",
       "      <td>female</td>\n",
       "      <td>38.0</td>\n",
       "      <td>1</td>\n",
       "      <td>0</td>\n",
       "      <td>PC 17599</td>\n",
       "      <td>71.2833</td>\n",
       "      <td>C85</td>\n",
       "      <td>C</td>\n",
       "      <td>1</td>\n",
       "      <td>élevé</td>\n",
       "    </tr>\n",
       "    <tr>\n",
       "      <th>2</th>\n",
       "      <td>3</td>\n",
       "      <td>1</td>\n",
       "      <td>3</td>\n",
       "      <td>Heikkinen, Miss. Laina</td>\n",
       "      <td>female</td>\n",
       "      <td>26.0</td>\n",
       "      <td>0</td>\n",
       "      <td>0</td>\n",
       "      <td>STON/O2. 3101282</td>\n",
       "      <td>7.9250</td>\n",
       "      <td>NaN</td>\n",
       "      <td>S</td>\n",
       "      <td>0</td>\n",
       "      <td>bon marché</td>\n",
       "    </tr>\n",
       "    <tr>\n",
       "      <th>3</th>\n",
       "      <td>4</td>\n",
       "      <td>1</td>\n",
       "      <td>1</td>\n",
       "      <td>Futrelle, Mrs. Jacques Heath (Lily May Peel)</td>\n",
       "      <td>female</td>\n",
       "      <td>35.0</td>\n",
       "      <td>1</td>\n",
       "      <td>0</td>\n",
       "      <td>113803</td>\n",
       "      <td>53.1000</td>\n",
       "      <td>C123</td>\n",
       "      <td>S</td>\n",
       "      <td>1</td>\n",
       "      <td>élevé</td>\n",
       "    </tr>\n",
       "    <tr>\n",
       "      <th>4</th>\n",
       "      <td>5</td>\n",
       "      <td>0</td>\n",
       "      <td>3</td>\n",
       "      <td>Allen, Mr. William Henry</td>\n",
       "      <td>male</td>\n",
       "      <td>35.0</td>\n",
       "      <td>0</td>\n",
       "      <td>0</td>\n",
       "      <td>373450</td>\n",
       "      <td>8.0500</td>\n",
       "      <td>NaN</td>\n",
       "      <td>S</td>\n",
       "      <td>0</td>\n",
       "      <td>bon marché</td>\n",
       "    </tr>\n",
       "  </tbody>\n",
       "</table>\n",
       "</div>"
      ],
      "text/plain": [
       "   PassengerId  Survived  Pclass  \\\n",
       "0            1         0       3   \n",
       "1            2         1       1   \n",
       "2            3         1       3   \n",
       "3            4         1       1   \n",
       "4            5         0       3   \n",
       "\n",
       "                                                Name     Sex   Age  SibSp  \\\n",
       "0                            Braund, Mr. Owen Harris    male  22.0      1   \n",
       "1  Cumings, Mrs. John Bradley (Florence Briggs Th...  female  38.0      1   \n",
       "2                             Heikkinen, Miss. Laina  female  26.0      0   \n",
       "3       Futrelle, Mrs. Jacques Heath (Lily May Peel)  female  35.0      1   \n",
       "4                           Allen, Mr. William Henry    male  35.0      0   \n",
       "\n",
       "   Parch            Ticket     Fare Cabin Embarked  test       tarif  \n",
       "0      0         A/5 21171   7.2500   NaN        S     1  bon marché  \n",
       "1      0          PC 17599  71.2833   C85        C     1       élevé  \n",
       "2      0  STON/O2. 3101282   7.9250   NaN        S     0  bon marché  \n",
       "3      0            113803  53.1000  C123        S     1       élevé  \n",
       "4      0            373450   8.0500   NaN        S     0  bon marché  "
      ]
     },
     "execution_count": 19,
     "metadata": {},
     "output_type": "execute_result"
    }
   ],
   "source": [
    "import numpy as np\n",
    "df['tarif'] = np.where(df['Fare'] > 50, 'élevé', 'bon marché')\n",
    "df.head()"
   ]
  },
  {
   "cell_type": "markdown",
   "id": "ad30cf41",
   "metadata": {},
   "source": [
    "### Partie 2"
   ]
  },
  {
   "cell_type": "markdown",
   "id": "a51c15db",
   "metadata": {},
   "source": [
    "#### Analyse exploratoire des données"
   ]
  },
  {
   "cell_type": "code",
   "execution_count": 24,
   "id": "40ba828e",
   "metadata": {
    "collapsed": true
   },
   "outputs": [
    {
     "data": {
      "text/html": [
       "\n",
       "        <iframe\n",
       "            width=\"100%\"\n",
       "            height=\"500\"\n",
       "            src=\"pivottablejs.html\"\n",
       "            frameborder=\"0\"\n",
       "            allowfullscreen\n",
       "            \n",
       "        ></iframe>\n",
       "        "
      ],
      "text/plain": [
       "<IPython.lib.display.IFrame at 0x22000f3abf0>"
      ]
     },
     "execution_count": 24,
     "metadata": {},
     "output_type": "execute_result"
    }
   ],
   "source": [
    "from pivottablejs import pivot_ui\n",
    "pivot_ui(df)"
   ]
  },
  {
   "cell_type": "markdown",
   "id": "1d1dc7bc",
   "metadata": {},
   "source": [
    "#### Sex"
   ]
  },
  {
   "cell_type": "code",
   "execution_count": 27,
   "id": "fc8dc849",
   "metadata": {},
   "outputs": [
    {
     "data": {
      "text/html": [
       "<div>\n",
       "<style scoped>\n",
       "    .dataframe tbody tr th:only-of-type {\n",
       "        vertical-align: middle;\n",
       "    }\n",
       "\n",
       "    .dataframe tbody tr th {\n",
       "        vertical-align: top;\n",
       "    }\n",
       "\n",
       "    .dataframe thead th {\n",
       "        text-align: right;\n",
       "    }\n",
       "</style>\n",
       "<table border=\"1\" class=\"dataframe\">\n",
       "  <thead>\n",
       "    <tr style=\"text-align: right;\">\n",
       "      <th></th>\n",
       "      <th></th>\n",
       "      <th>nombre</th>\n",
       "    </tr>\n",
       "    <tr>\n",
       "      <th>Sex</th>\n",
       "      <th>Survived</th>\n",
       "      <th></th>\n",
       "    </tr>\n",
       "  </thead>\n",
       "  <tbody>\n",
       "    <tr>\n",
       "      <th rowspan=\"2\" valign=\"top\">female</th>\n",
       "      <th>0</th>\n",
       "      <td>81</td>\n",
       "    </tr>\n",
       "    <tr>\n",
       "      <th>1</th>\n",
       "      <td>233</td>\n",
       "    </tr>\n",
       "    <tr>\n",
       "      <th rowspan=\"2\" valign=\"top\">male</th>\n",
       "      <th>0</th>\n",
       "      <td>468</td>\n",
       "    </tr>\n",
       "    <tr>\n",
       "      <th>1</th>\n",
       "      <td>109</td>\n",
       "    </tr>\n",
       "  </tbody>\n",
       "</table>\n",
       "</div>"
      ],
      "text/plain": [
       "                 nombre\n",
       "Sex    Survived        \n",
       "female 0             81\n",
       "       1            233\n",
       "male   0            468\n",
       "       1            109"
      ]
     },
     "execution_count": 27,
     "metadata": {},
     "output_type": "execute_result"
    }
   ],
   "source": [
    "df_sex = df.groupby(['Sex', 'Survived']).agg({'PassengerId': 'count'})\n",
    "df_sex.rename(columns={'PassengerId': 'nombre'}, inplace=True)\n",
    "df_sex"
   ]
  },
  {
   "cell_type": "code",
   "execution_count": 29,
   "id": "0a9ab272",
   "metadata": {},
   "outputs": [],
   "source": [
    "df_sex = df_sex.unstack()"
   ]
  },
  {
   "cell_type": "code",
   "execution_count": 32,
   "id": "ecb7e78d",
   "metadata": {},
   "outputs": [
    {
     "data": {
      "text/plain": [
       "<AxesSubplot:title={'center':'Survie par sexe'}, xlabel='Sex'>"
      ]
     },
     "execution_count": 32,
     "metadata": {},
     "output_type": "execute_result"
    },
    {
     "data": {
      "image/png": "[encoded data removed]",
      "text/plain": [
       "<Figure size 432x288 with 1 Axes>"
      ]
     },
     "metadata": {
      "needs_background": "light"
     },
     "output_type": "display_data"
    }
   ],
   "source": [
    "df_sex.plot(kind='bar', stacked=0, title='Survie par sexe')"
   ]
  },
  {
   "cell_type": "markdown",
   "id": "b80bf495",
   "metadata": {},
   "source": [
    "#### Pclass"
   ]
  },
  {
   "cell_type": "code",
   "execution_count": 33,
   "id": "8584b5b6",
   "metadata": {},
   "outputs": [
    {
     "data": {
      "text/html": [
       "<div>\n",
       "<style scoped>\n",
       "    .dataframe tbody tr th:only-of-type {\n",
       "        vertical-align: middle;\n",
       "    }\n",
       "\n",
       "    .dataframe tbody tr th {\n",
       "        vertical-align: top;\n",
       "    }\n",
       "\n",
       "    .dataframe thead th {\n",
       "        text-align: right;\n",
       "    }\n",
       "</style>\n",
       "<table border=\"1\" class=\"dataframe\">\n",
       "  <thead>\n",
       "    <tr style=\"text-align: right;\">\n",
       "      <th></th>\n",
       "      <th></th>\n",
       "      <th>nombre</th>\n",
       "    </tr>\n",
       "    <tr>\n",
       "      <th>Pclass</th>\n",
       "      <th>Survived</th>\n",
       "      <th></th>\n",
       "    </tr>\n",
       "  </thead>\n",
       "  <tbody>\n",
       "    <tr>\n",
       "      <th rowspan=\"2\" valign=\"top\">1</th>\n",
       "      <th>0</th>\n",
       "      <td>80</td>\n",
       "    </tr>\n",
       "    <tr>\n",
       "      <th>1</th>\n",
       "      <td>136</td>\n",
       "    </tr>\n",
       "    <tr>\n",
       "      <th rowspan=\"2\" valign=\"top\">2</th>\n",
       "      <th>0</th>\n",
       "      <td>97</td>\n",
       "    </tr>\n",
       "    <tr>\n",
       "      <th>1</th>\n",
       "      <td>87</td>\n",
       "    </tr>\n",
       "    <tr>\n",
       "      <th rowspan=\"2\" valign=\"top\">3</th>\n",
       "      <th>0</th>\n",
       "      <td>372</td>\n",
       "    </tr>\n",
       "    <tr>\n",
       "      <th>1</th>\n",
       "      <td>119</td>\n",
       "    </tr>\n",
       "  </tbody>\n",
       "</table>\n",
       "</div>"
      ],
      "text/plain": [
       "                 nombre\n",
       "Pclass Survived        \n",
       "1      0             80\n",
       "       1            136\n",
       "2      0             97\n",
       "       1             87\n",
       "3      0            372\n",
       "       1            119"
      ]
     },
     "execution_count": 33,
     "metadata": {},
     "output_type": "execute_result"
    }
   ],
   "source": [
    "df_class = df.groupby(['Pclass', 'Survived']).agg({'PassengerId': 'count'})\n",
    "df_class.rename(columns={'PassengerId': 'nombre'}, inplace=True)\n",
    "df_class"
   ]
  },
  {
   "cell_type": "code",
   "execution_count": 34,
   "id": "55d7e529",
   "metadata": {},
   "outputs": [
    {
     "data": {
      "text/plain": [
       "<AxesSubplot:title={'center':'Survie par Pclass'}, xlabel='Pclass'>"
      ]
     },
     "execution_count": 34,
     "metadata": {},
     "output_type": "execute_result"
    },
    {
     "data": {
      "image/png": "[encoded data removed]",
      "text/plain": [
       "<Figure size 432x288 with 1 Axes>"
      ]
     },
     "metadata": {
      "needs_background": "light"
     },
     "output_type": "display_data"
    }
   ],
   "source": [
    "df_class.unstack().plot(kind='bar', stacked=0, title='Survie par Pclass')"
   ]
  },
  {
   "cell_type": "markdown",
   "id": "b167fa7a",
   "metadata": {},
   "source": [
    "#### Age"
   ]
  },
  {
   "cell_type": "code",
   "execution_count": 37,
   "id": "ceff8e4c",
   "metadata": {},
   "outputs": [
    {
     "data": {
      "text/html": [
       "<div>\n",
       "<style scoped>\n",
       "    .dataframe tbody tr th:only-of-type {\n",
       "        vertical-align: middle;\n",
       "    }\n",
       "\n",
       "    .dataframe tbody tr th {\n",
       "        vertical-align: top;\n",
       "    }\n",
       "\n",
       "    .dataframe thead th {\n",
       "        text-align: right;\n",
       "    }\n",
       "</style>\n",
       "<table border=\"1\" class=\"dataframe\">\n",
       "  <thead>\n",
       "    <tr style=\"text-align: right;\">\n",
       "      <th></th>\n",
       "      <th></th>\n",
       "      <th>nombre</th>\n",
       "    </tr>\n",
       "    <tr>\n",
       "      <th>Classe_age</th>\n",
       "      <th>Survived</th>\n",
       "      <th></th>\n",
       "    </tr>\n",
       "  </thead>\n",
       "  <tbody>\n",
       "    <tr>\n",
       "      <th rowspan=\"2\" valign=\"top\">0-9</th>\n",
       "      <th>0</th>\n",
       "      <td>26</td>\n",
       "    </tr>\n",
       "    <tr>\n",
       "      <th>1</th>\n",
       "      <td>38</td>\n",
       "    </tr>\n",
       "    <tr>\n",
       "      <th rowspan=\"2\" valign=\"top\">10-19</th>\n",
       "      <th>0</th>\n",
       "      <td>71</td>\n",
       "    </tr>\n",
       "    <tr>\n",
       "      <th>1</th>\n",
       "      <td>44</td>\n",
       "    </tr>\n",
       "    <tr>\n",
       "      <th rowspan=\"2\" valign=\"top\">20-29</th>\n",
       "      <th>0</th>\n",
       "      <td>146</td>\n",
       "    </tr>\n",
       "    <tr>\n",
       "      <th>1</th>\n",
       "      <td>84</td>\n",
       "    </tr>\n",
       "    <tr>\n",
       "      <th rowspan=\"2\" valign=\"top\">30-39</th>\n",
       "      <th>0</th>\n",
       "      <td>86</td>\n",
       "    </tr>\n",
       "    <tr>\n",
       "      <th>1</th>\n",
       "      <td>69</td>\n",
       "    </tr>\n",
       "    <tr>\n",
       "      <th rowspan=\"2\" valign=\"top\">40-49</th>\n",
       "      <th>0</th>\n",
       "      <td>53</td>\n",
       "    </tr>\n",
       "    <tr>\n",
       "      <th>1</th>\n",
       "      <td>33</td>\n",
       "    </tr>\n",
       "    <tr>\n",
       "      <th rowspan=\"2\" valign=\"top\">50-59</th>\n",
       "      <th>0</th>\n",
       "      <td>25</td>\n",
       "    </tr>\n",
       "    <tr>\n",
       "      <th>1</th>\n",
       "      <td>17</td>\n",
       "    </tr>\n",
       "    <tr>\n",
       "      <th rowspan=\"2\" valign=\"top\">60-69</th>\n",
       "      <th>0</th>\n",
       "      <td>13</td>\n",
       "    </tr>\n",
       "    <tr>\n",
       "      <th>1</th>\n",
       "      <td>4</td>\n",
       "    </tr>\n",
       "    <tr>\n",
       "      <th rowspan=\"2\" valign=\"top\">70+</th>\n",
       "      <th>0</th>\n",
       "      <td>4</td>\n",
       "    </tr>\n",
       "    <tr>\n",
       "      <th>1</th>\n",
       "      <td>1</td>\n",
       "    </tr>\n",
       "  </tbody>\n",
       "</table>\n",
       "</div>"
      ],
      "text/plain": [
       "                     nombre\n",
       "Classe_age Survived        \n",
       "0-9        0             26\n",
       "           1             38\n",
       "10-19      0             71\n",
       "           1             44\n",
       "20-29      0            146\n",
       "           1             84\n",
       "30-39      0             86\n",
       "           1             69\n",
       "40-49      0             53\n",
       "           1             33\n",
       "50-59      0             25\n",
       "           1             17\n",
       "60-69      0             13\n",
       "           1              4\n",
       "70+        0              4\n",
       "           1              1"
      ]
     },
     "execution_count": 37,
     "metadata": {},
     "output_type": "execute_result"
    }
   ],
   "source": [
    "df['Classe_age'] = pd.cut(df.Age, [0, 10, 20, 30, 40, 50, 60, 70, 100], \n",
    "                                     labels=['0-9', '10-19', '20-29', '30-39', '40-49', '50-59', '60-69', '70+'])\n",
    "df_age = df.groupby(['Classe_age', 'Survived']).agg({'PassengerId': 'count'})\n",
    "df_age.rename(columns={'PassengerId': 'nombre'}, inplace=True)\n",
    "df_age"
   ]
  },
  {
   "cell_type": "code",
   "execution_count": 39,
   "id": "22491566",
   "metadata": {},
   "outputs": [
    {
     "data": {
      "text/plain": [
       "<AxesSubplot:title={'center':\"Survie par tranche d'age\"}, xlabel='Classe_age'>"
      ]
     },
     "execution_count": 39,
     "metadata": {},
     "output_type": "execute_result"
    },
    {
     "data": {
      "image/png": "[encoded data removed]",
      "text/plain": [
       "<Figure size 432x288 with 1 Axes>"
      ]
     },
     "metadata": {
      "needs_background": "light"
     },
     "output_type": "display_data"
    }
   ],
   "source": [
    "df_age.unstack().plot(kind='bar', stacked=0, title=\"Survie par tranche d'age\")"
   ]
  },
  {
   "cell_type": "markdown",
   "id": "4b11298a",
   "metadata": {},
   "source": [
    "#### Fare"
   ]
  },
  {
   "cell_type": "code",
   "execution_count": 40,
   "id": "31830673",
   "metadata": {},
   "outputs": [
    {
     "data": {
      "text/html": [
       "<div>\n",
       "<style scoped>\n",
       "    .dataframe tbody tr th:only-of-type {\n",
       "        vertical-align: middle;\n",
       "    }\n",
       "\n",
       "    .dataframe tbody tr th {\n",
       "        vertical-align: top;\n",
       "    }\n",
       "\n",
       "    .dataframe thead th {\n",
       "        text-align: right;\n",
       "    }\n",
       "</style>\n",
       "<table border=\"1\" class=\"dataframe\">\n",
       "  <thead>\n",
       "    <tr style=\"text-align: right;\">\n",
       "      <th></th>\n",
       "      <th></th>\n",
       "      <th>nombre</th>\n",
       "    </tr>\n",
       "    <tr>\n",
       "      <th>Classe_fare</th>\n",
       "      <th>Survived</th>\n",
       "      <th></th>\n",
       "    </tr>\n",
       "  </thead>\n",
       "  <tbody>\n",
       "    <tr>\n",
       "      <th rowspan=\"2\" valign=\"top\">0-10</th>\n",
       "      <th>0</th>\n",
       "      <td>255</td>\n",
       "    </tr>\n",
       "    <tr>\n",
       "      <th>1</th>\n",
       "      <td>66</td>\n",
       "    </tr>\n",
       "    <tr>\n",
       "      <th rowspan=\"2\" valign=\"top\">10-20</th>\n",
       "      <th>0</th>\n",
       "      <td>103</td>\n",
       "    </tr>\n",
       "    <tr>\n",
       "      <th>1</th>\n",
       "      <td>76</td>\n",
       "    </tr>\n",
       "    <tr>\n",
       "      <th rowspan=\"2\" valign=\"top\">20-30</th>\n",
       "      <th>0</th>\n",
       "      <td>79</td>\n",
       "    </tr>\n",
       "    <tr>\n",
       "      <th>1</th>\n",
       "      <td>63</td>\n",
       "    </tr>\n",
       "    <tr>\n",
       "      <th rowspan=\"2\" valign=\"top\">30-40</th>\n",
       "      <th>0</th>\n",
       "      <td>35</td>\n",
       "    </tr>\n",
       "    <tr>\n",
       "      <th>1</th>\n",
       "      <td>23</td>\n",
       "    </tr>\n",
       "    <tr>\n",
       "      <th rowspan=\"2\" valign=\"top\">40-50</th>\n",
       "      <th>0</th>\n",
       "      <td>12</td>\n",
       "    </tr>\n",
       "    <tr>\n",
       "      <th>1</th>\n",
       "      <td>4</td>\n",
       "    </tr>\n",
       "    <tr>\n",
       "      <th rowspan=\"2\" valign=\"top\">50+</th>\n",
       "      <th>0</th>\n",
       "      <td>51</td>\n",
       "    </tr>\n",
       "    <tr>\n",
       "      <th>1</th>\n",
       "      <td>109</td>\n",
       "    </tr>\n",
       "  </tbody>\n",
       "</table>\n",
       "</div>"
      ],
      "text/plain": [
       "                      nombre\n",
       "Classe_fare Survived        \n",
       "0-10        0            255\n",
       "            1             66\n",
       "10-20       0            103\n",
       "            1             76\n",
       "20-30       0             79\n",
       "            1             63\n",
       "30-40       0             35\n",
       "            1             23\n",
       "40-50       0             12\n",
       "            1              4\n",
       "50+         0             51\n",
       "            1            109"
      ]
     },
     "execution_count": 40,
     "metadata": {},
     "output_type": "execute_result"
    }
   ],
   "source": [
    "df['Classe_fare'] = pd.cut(df.Fare, [0, 10, 20, 30, 40, 50, 1000], \n",
    "                                     labels=['0-10', '10-20', '20-30', '30-40', '40-50', '50+'])\n",
    "df_fare = df.groupby(['Classe_fare', 'Survived']).agg({'PassengerId': 'count'})\n",
    "df_fare.rename(columns={'PassengerId': 'nombre'}, inplace=True)\n",
    "df_fare"
   ]
  },
  {
   "cell_type": "code",
   "execution_count": 41,
   "id": "7de88aba",
   "metadata": {},
   "outputs": [
    {
     "data": {
      "text/plain": [
       "<AxesSubplot:title={'center':'Survie par tranche de prix (Fare)'}, xlabel='Classe_fare'>"
      ]
     },
     "execution_count": 41,
     "metadata": {},
     "output_type": "execute_result"
    },
    {
     "data": {
      "image/png": "[encoded data removed]",
      "text/plain": [
       "<Figure size 432x288 with 1 Axes>"
      ]
     },
     "metadata": {
      "needs_background": "light"
     },
     "output_type": "display_data"
    }
   ],
   "source": [
    "df_fare.unstack().plot(kind='bar', stacked=0, title=\"Survie par tranche de prix (Fare)\")"
   ]
  },
  {
   "cell_type": "code",
   "execution_count": 42,
   "id": "d404c223",
   "metadata": {},
   "outputs": [],
   "source": [
    "attrs = ['Sex', 'Age', 'Pclass', 'Fare']"
   ]
  },
  {
   "cell_type": "markdown",
   "id": "913165a5",
   "metadata": {},
   "source": [
    "#### Netoyage de données"
   ]
  },
  {
   "cell_type": "code",
   "execution_count": 43,
   "id": "0b68d2fc",
   "metadata": {},
   "outputs": [],
   "source": [
    "df1 = df.dropna(subset=['Age'])"
   ]
  },
  {
   "cell_type": "code",
   "execution_count": 47,
   "id": "ae50d39f",
   "metadata": {},
   "outputs": [
    {
     "data": {
      "text/html": [
       "<div>\n",
       "<style scoped>\n",
       "    .dataframe tbody tr th:only-of-type {\n",
       "        vertical-align: middle;\n",
       "    }\n",
       "\n",
       "    .dataframe tbody tr th {\n",
       "        vertical-align: top;\n",
       "    }\n",
       "\n",
       "    .dataframe thead th {\n",
       "        text-align: right;\n",
       "    }\n",
       "</style>\n",
       "<table border=\"1\" class=\"dataframe\">\n",
       "  <thead>\n",
       "    <tr style=\"text-align: right;\">\n",
       "      <th></th>\n",
       "      <th>PassengerId</th>\n",
       "      <th>Survived</th>\n",
       "      <th>Pclass</th>\n",
       "      <th>Name</th>\n",
       "      <th>Sex</th>\n",
       "      <th>Age</th>\n",
       "      <th>SibSp</th>\n",
       "      <th>Parch</th>\n",
       "      <th>Ticket</th>\n",
       "      <th>Fare</th>\n",
       "      <th>Cabin</th>\n",
       "      <th>Embarked</th>\n",
       "      <th>Classe_age</th>\n",
       "      <th>Classe_fare</th>\n",
       "      <th>Sex_num</th>\n",
       "    </tr>\n",
       "  </thead>\n",
       "  <tbody>\n",
       "    <tr>\n",
       "      <th>0</th>\n",
       "      <td>1</td>\n",
       "      <td>0</td>\n",
       "      <td>3</td>\n",
       "      <td>Braund, Mr. Owen Harris</td>\n",
       "      <td>male</td>\n",
       "      <td>22.0</td>\n",
       "      <td>1</td>\n",
       "      <td>0</td>\n",
       "      <td>A/5 21171</td>\n",
       "      <td>7.2500</td>\n",
       "      <td>NaN</td>\n",
       "      <td>S</td>\n",
       "      <td>20-29</td>\n",
       "      <td>0-10</td>\n",
       "      <td>1</td>\n",
       "    </tr>\n",
       "    <tr>\n",
       "      <th>1</th>\n",
       "      <td>2</td>\n",
       "      <td>1</td>\n",
       "      <td>1</td>\n",
       "      <td>Cumings, Mrs. John Bradley (Florence Briggs Th...</td>\n",
       "      <td>female</td>\n",
       "      <td>38.0</td>\n",
       "      <td>1</td>\n",
       "      <td>0</td>\n",
       "      <td>PC 17599</td>\n",
       "      <td>71.2833</td>\n",
       "      <td>C85</td>\n",
       "      <td>C</td>\n",
       "      <td>30-39</td>\n",
       "      <td>50+</td>\n",
       "      <td>2</td>\n",
       "    </tr>\n",
       "    <tr>\n",
       "      <th>2</th>\n",
       "      <td>3</td>\n",
       "      <td>1</td>\n",
       "      <td>3</td>\n",
       "      <td>Heikkinen, Miss. Laina</td>\n",
       "      <td>female</td>\n",
       "      <td>26.0</td>\n",
       "      <td>0</td>\n",
       "      <td>0</td>\n",
       "      <td>STON/O2. 3101282</td>\n",
       "      <td>7.9250</td>\n",
       "      <td>NaN</td>\n",
       "      <td>S</td>\n",
       "      <td>20-29</td>\n",
       "      <td>0-10</td>\n",
       "      <td>2</td>\n",
       "    </tr>\n",
       "    <tr>\n",
       "      <th>3</th>\n",
       "      <td>4</td>\n",
       "      <td>1</td>\n",
       "      <td>1</td>\n",
       "      <td>Futrelle, Mrs. Jacques Heath (Lily May Peel)</td>\n",
       "      <td>female</td>\n",
       "      <td>35.0</td>\n",
       "      <td>1</td>\n",
       "      <td>0</td>\n",
       "      <td>113803</td>\n",
       "      <td>53.1000</td>\n",
       "      <td>C123</td>\n",
       "      <td>S</td>\n",
       "      <td>30-39</td>\n",
       "      <td>50+</td>\n",
       "      <td>2</td>\n",
       "    </tr>\n",
       "    <tr>\n",
       "      <th>4</th>\n",
       "      <td>5</td>\n",
       "      <td>0</td>\n",
       "      <td>3</td>\n",
       "      <td>Allen, Mr. William Henry</td>\n",
       "      <td>male</td>\n",
       "      <td>35.0</td>\n",
       "      <td>0</td>\n",
       "      <td>0</td>\n",
       "      <td>373450</td>\n",
       "      <td>8.0500</td>\n",
       "      <td>NaN</td>\n",
       "      <td>S</td>\n",
       "      <td>30-39</td>\n",
       "      <td>0-10</td>\n",
       "      <td>1</td>\n",
       "    </tr>\n",
       "  </tbody>\n",
       "</table>\n",
       "</div>"
      ],
      "text/plain": [
       "   PassengerId  Survived  Pclass  \\\n",
       "0            1         0       3   \n",
       "1            2         1       1   \n",
       "2            3         1       3   \n",
       "3            4         1       1   \n",
       "4            5         0       3   \n",
       "\n",
       "                                                Name     Sex   Age  SibSp  \\\n",
       "0                            Braund, Mr. Owen Harris    male  22.0      1   \n",
       "1  Cumings, Mrs. John Bradley (Florence Briggs Th...  female  38.0      1   \n",
       "2                             Heikkinen, Miss. Laina  female  26.0      0   \n",
       "3       Futrelle, Mrs. Jacques Heath (Lily May Peel)  female  35.0      1   \n",
       "4                           Allen, Mr. William Henry    male  35.0      0   \n",
       "\n",
       "   Parch            Ticket     Fare Cabin Embarked Classe_age Classe_fare  \\\n",
       "0      0         A/5 21171   7.2500   NaN        S      20-29        0-10   \n",
       "1      0          PC 17599  71.2833   C85        C      30-39         50+   \n",
       "2      0  STON/O2. 3101282   7.9250   NaN        S      20-29        0-10   \n",
       "3      0            113803  53.1000  C123        S      30-39         50+   \n",
       "4      0            373450   8.0500   NaN        S      30-39        0-10   \n",
       "\n",
       "   Sex_num  \n",
       "0        1  \n",
       "1        2  \n",
       "2        2  \n",
       "3        2  \n",
       "4        1  "
      ]
     },
     "execution_count": 47,
     "metadata": {},
     "output_type": "execute_result"
    }
   ],
   "source": [
    "df2 = df1.copy()\n",
    "df2['Sex_num'] = np.where(df2.Sex == 'male', 1, 2)\n",
    "df2.head()"
   ]
  },
  {
   "cell_type": "markdown",
   "id": "c8de12b8",
   "metadata": {},
   "source": [
    "#### Corrélation"
   ]
  },
  {
   "cell_type": "code",
   "execution_count": 48,
   "id": "e7059bce",
   "metadata": {},
   "outputs": [],
   "source": [
    "attrs = ['Sex_num', 'Age', 'Pclass', 'Fare', 'Survived']"
   ]
  },
  {
   "cell_type": "code",
   "execution_count": 49,
   "id": "72eb28ff",
   "metadata": {},
   "outputs": [
    {
     "data": {
      "text/html": [
       "<div>\n",
       "<style scoped>\n",
       "    .dataframe tbody tr th:only-of-type {\n",
       "        vertical-align: middle;\n",
       "    }\n",
       "\n",
       "    .dataframe tbody tr th {\n",
       "        vertical-align: top;\n",
       "    }\n",
       "\n",
       "    .dataframe thead th {\n",
       "        text-align: right;\n",
       "    }\n",
       "</style>\n",
       "<table border=\"1\" class=\"dataframe\">\n",
       "  <thead>\n",
       "    <tr style=\"text-align: right;\">\n",
       "      <th></th>\n",
       "      <th>Sex_num</th>\n",
       "      <th>Age</th>\n",
       "      <th>Pclass</th>\n",
       "      <th>Fare</th>\n",
       "      <th>Survived</th>\n",
       "    </tr>\n",
       "  </thead>\n",
       "  <tbody>\n",
       "    <tr>\n",
       "      <th>Sex_num</th>\n",
       "      <td>1.000000</td>\n",
       "      <td>-0.093254</td>\n",
       "      <td>-0.155460</td>\n",
       "      <td>0.184994</td>\n",
       "      <td>0.538826</td>\n",
       "    </tr>\n",
       "    <tr>\n",
       "      <th>Age</th>\n",
       "      <td>-0.093254</td>\n",
       "      <td>1.000000</td>\n",
       "      <td>-0.369226</td>\n",
       "      <td>0.096067</td>\n",
       "      <td>-0.077221</td>\n",
       "    </tr>\n",
       "    <tr>\n",
       "      <th>Pclass</th>\n",
       "      <td>-0.155460</td>\n",
       "      <td>-0.369226</td>\n",
       "      <td>1.000000</td>\n",
       "      <td>-0.554182</td>\n",
       "      <td>-0.359653</td>\n",
       "    </tr>\n",
       "    <tr>\n",
       "      <th>Fare</th>\n",
       "      <td>0.184994</td>\n",
       "      <td>0.096067</td>\n",
       "      <td>-0.554182</td>\n",
       "      <td>1.000000</td>\n",
       "      <td>0.268189</td>\n",
       "    </tr>\n",
       "    <tr>\n",
       "      <th>Survived</th>\n",
       "      <td>0.538826</td>\n",
       "      <td>-0.077221</td>\n",
       "      <td>-0.359653</td>\n",
       "      <td>0.268189</td>\n",
       "      <td>1.000000</td>\n",
       "    </tr>\n",
       "  </tbody>\n",
       "</table>\n",
       "</div>"
      ],
      "text/plain": [
       "           Sex_num       Age    Pclass      Fare  Survived\n",
       "Sex_num   1.000000 -0.093254 -0.155460  0.184994  0.538826\n",
       "Age      -0.093254  1.000000 -0.369226  0.096067 -0.077221\n",
       "Pclass   -0.155460 -0.369226  1.000000 -0.554182 -0.359653\n",
       "Fare      0.184994  0.096067 -0.554182  1.000000  0.268189\n",
       "Survived  0.538826 -0.077221 -0.359653  0.268189  1.000000"
      ]
     },
     "execution_count": 49,
     "metadata": {},
     "output_type": "execute_result"
    }
   ],
   "source": [
    "df2[attrs].corr()"
   ]
  },
  {
   "cell_type": "code",
   "execution_count": 50,
   "id": "a7812766",
   "metadata": {},
   "outputs": [],
   "source": [
    "attrs_predictifs = ['Age', 'Fare', 'Sex_num']"
   ]
  },
  {
   "cell_type": "markdown",
   "id": "f97ab8f1",
   "metadata": {},
   "source": [
    "### Construction de modèle predective"
   ]
  },
  {
   "cell_type": "code",
   "execution_count": 53,
   "id": "47e8e33b",
   "metadata": {},
   "outputs": [],
   "source": [
    "from sklearn import linear_model\n",
    "from sklearn.model_selection import train_test_split\n",
    "\n",
    "X = df2[['Age', 'Sex_num', 'Fare']]\n",
    "y = df2['Survived']\n",
    "\n",
    "# 70% entrainement / 30% validation\n",
    "X_train, X_test, y_train, y_test = train_test_split(X, y, test_size=.30)"
   ]
  },
  {
   "cell_type": "markdown",
   "id": "eb69435a",
   "metadata": {},
   "source": [
    "#### Linear Regression"
   ]
  },
  {
   "cell_type": "code",
   "execution_count": 68,
   "id": "f5f877b9",
   "metadata": {},
   "outputs": [
    {
     "data": {
      "text/plain": [
       "LogisticRegression()"
      ]
     },
     "execution_count": 68,
     "metadata": {},
     "output_type": "execute_result"
    }
   ],
   "source": [
    "log_model = linear_model.LogisticRegression()\n",
    "\n",
    "log_model.fit(X_train, y_train)"
   ]
  },
  {
   "cell_type": "code",
   "execution_count": 67,
   "id": "92513e27",
   "metadata": {},
   "outputs": [
    {
     "data": {
      "text/plain": [
       "array([0, 1, 0, 0, 0, 0, 1, 1, 1, 0, 0, 0, 0, 0, 0, 0, 1, 1, 0, 1, 0, 0,\n",
       "       0, 0, 0, 0, 1, 0, 0, 0, 0, 1, 0, 1, 0, 0, 0, 0, 0, 1, 1, 0, 0, 1,\n",
       "       0, 0, 0, 0, 0, 1, 1, 0, 0, 1, 1, 1, 1, 1, 1, 0, 0, 1, 1, 1, 0, 0,\n",
       "       1, 0, 1, 1, 1, 0, 1, 0, 0, 1, 1, 0, 1, 0, 0, 0, 1, 1, 0, 0, 1, 1,\n",
       "       0, 0, 0, 0, 0, 0, 1, 1, 0, 0, 0, 1, 1, 1, 0, 0, 0, 1, 0, 0, 1, 1,\n",
       "       1, 0, 0, 0, 0, 0, 0, 0, 1, 0, 0, 1, 0, 1, 1, 0, 1, 0, 0, 1, 0, 1,\n",
       "       0, 1, 1, 0, 0, 0, 1, 0, 1, 1, 1, 0, 1, 1, 1, 0, 0, 0, 1, 1, 0, 0,\n",
       "       1, 0, 1, 0, 1, 0, 0, 0, 0, 1, 0, 0, 0, 0, 0, 1, 0, 1, 0, 0, 0, 0,\n",
       "       0, 0, 1, 0, 1, 0, 0, 0, 1, 0, 0, 0, 1, 0, 1, 0, 1, 0, 0, 1, 0, 0,\n",
       "       1, 1, 1, 0, 0, 0, 0, 0, 1, 0, 0, 1, 0, 1, 0, 0, 1], dtype=int64)"
      ]
     },
     "execution_count": 67,
     "metadata": {},
     "output_type": "execute_result"
    }
   ],
   "source": [
    "y_pred1 = log_model.predict(X_test)\n",
    "y_pred1"
   ]
  },
  {
   "cell_type": "code",
   "execution_count": 66,
   "id": "21e9cb16",
   "metadata": {},
   "outputs": [
    {
     "data": {
      "text/plain": [
       "array([[0.76587709, 0.23412291],\n",
       "       [0.26651939, 0.73348061],\n",
       "       [0.79765514, 0.20234486],\n",
       "       [0.66625595, 0.33374405],\n",
       "       [0.86678318, 0.13321682],\n",
       "       [0.61461211, 0.38538789],\n",
       "       [0.37908942, 0.62091058],\n",
       "       [0.34308194, 0.65691806],\n",
       "       [0.36848952, 0.63151048],\n",
       "       [0.83895427, 0.16104573],\n",
       "       [0.72726415, 0.27273585],\n",
       "       [0.84757154, 0.15242846],\n",
       "       [0.83361616, 0.16638384],\n",
       "       [0.82255406, 0.17744594],\n",
       "       [0.82860834, 0.17139166],\n",
       "       [0.80684558, 0.19315442],\n",
       "       [0.34018436, 0.65981564],\n",
       "       [0.26759929, 0.73240071],\n",
       "       [0.83122664, 0.16877336],\n",
       "       [0.37475899, 0.62524101],\n",
       "       [0.83446543, 0.16553457],\n",
       "       [0.75120312, 0.24879688],\n",
       "       [0.76451544, 0.23548456],\n",
       "       [0.75408895, 0.24591105],\n",
       "       [0.82338926, 0.17661074],\n",
       "       [0.83601612, 0.16398388],\n",
       "       [0.22674489, 0.77325511],\n",
       "       [0.82427208, 0.17572792],\n",
       "       [0.80450596, 0.19549404],\n",
       "       [0.83174222, 0.16825778],\n",
       "       [0.84471125, 0.15528875],\n",
       "       [0.21564374, 0.78435626],\n",
       "       [0.68504713, 0.31495287],\n",
       "       [0.13668953, 0.86331047],\n",
       "       [0.83498849, 0.16501151],\n",
       "       [0.80178416, 0.19821584],\n",
       "       [0.79129909, 0.20870091],\n",
       "       [0.79370317, 0.20629683],\n",
       "       [0.8395794 , 0.1604206 ],\n",
       "       [0.19333727, 0.80666273],\n",
       "       [0.37608346, 0.62391654],\n",
       "       [0.82145699, 0.17854301],\n",
       "       [0.811569  , 0.188431  ],\n",
       "       [0.33152661, 0.66847339],\n",
       "       [0.86604119, 0.13395881],\n",
       "       [0.7701909 , 0.2298091 ],\n",
       "       [0.75394732, 0.24605268],\n",
       "       [0.79934587, 0.20065413],\n",
       "       [0.81778623, 0.18221377],\n",
       "       [0.01881904, 0.98118096],\n",
       "       [0.40760326, 0.59239674],\n",
       "       [0.65003253, 0.34996747],\n",
       "       [0.82821147, 0.17178853],\n",
       "       [0.03390246, 0.96609754],\n",
       "       [0.34431523, 0.65568477],\n",
       "       [0.32879271, 0.67120729],\n",
       "       [0.2368902 , 0.7631098 ],\n",
       "       [0.22636234, 0.77363766],\n",
       "       [0.3822681 , 0.6177319 ],\n",
       "       [0.82808621, 0.17191379],\n",
       "       [0.79940238, 0.20059762],\n",
       "       [0.39832114, 0.60167886],\n",
       "       [0.40251499, 0.59748501],\n",
       "       [0.37226898, 0.62773102],\n",
       "       [0.8569293 , 0.1430707 ],\n",
       "       [0.82462225, 0.17537775],\n",
       "       [0.18232268, 0.81767732],\n",
       "       [0.75268985, 0.24731015],\n",
       "       [0.32497793, 0.67502207],\n",
       "       [0.18038415, 0.81961585],\n",
       "       [0.2257249 , 0.7742751 ],\n",
       "       [0.83234065, 0.16765935],\n",
       "       [0.03476828, 0.96523172],\n",
       "       [0.75363548, 0.24636452],\n",
       "       [0.82263149, 0.17736851],\n",
       "       [0.39876422, 0.60123578],\n",
       "       [0.38013847, 0.61986153],\n",
       "       [0.80767159, 0.19232841],\n",
       "       [0.421212  , 0.578788  ],\n",
       "       [0.82920159, 0.17079841],\n",
       "       [0.83177208, 0.16822792],\n",
       "       [0.84762883, 0.15237117],\n",
       "       [0.37746316, 0.62253684],\n",
       "       [0.38501906, 0.61498094],\n",
       "       [0.84370879, 0.15629121],\n",
       "       [0.827711  , 0.172289  ],\n",
       "       [0.33844375, 0.66155625],\n",
       "       [0.34193498, 0.65806502],\n",
       "       [0.5392255 , 0.4607745 ],\n",
       "       [0.87329159, 0.12670841],\n",
       "       [0.82263149, 0.17736851],\n",
       "       [0.82975157, 0.17024843],\n",
       "       [0.82462225, 0.17537775],\n",
       "       [0.84184594, 0.15815406],\n",
       "       [0.36142702, 0.63857298],\n",
       "       [0.21966741, 0.78033259],\n",
       "       [0.80544054, 0.19455946],\n",
       "       [0.83711703, 0.16288297],\n",
       "       [0.81105692, 0.18894308],\n",
       "       [0.38966692, 0.61033308],\n",
       "       [0.38398159, 0.61601841],\n",
       "       [0.32291269, 0.67708731],\n",
       "       [0.8159974 , 0.1840026 ],\n",
       "       [0.85315457, 0.14684543],\n",
       "       [0.7981789 , 0.2018211 ],\n",
       "       [0.0192702 , 0.9807298 ],\n",
       "       [0.81720912, 0.18279088],\n",
       "       [0.76679153, 0.23320847],\n",
       "       [0.39096444, 0.60903556],\n",
       "       [0.27202946, 0.72797054],\n",
       "       [0.38509949, 0.61490051],\n",
       "       [0.81411252, 0.18588748],\n",
       "       [0.61740542, 0.38259458],\n",
       "       [0.84871036, 0.15128964],\n",
       "       [0.72990993, 0.27009007],\n",
       "       [0.6978931 , 0.3021069 ],\n",
       "       [0.68202956, 0.31797044],\n",
       "       [0.82836699, 0.17163301],\n",
       "       [0.44392386, 0.55607614],\n",
       "       [0.81434593, 0.18565407],\n",
       "       [0.60664926, 0.39335074],\n",
       "       [0.35334496, 0.64665504],\n",
       "       [0.81967724, 0.18032276],\n",
       "       [0.10772228, 0.89227772],\n",
       "       [0.38729129, 0.61270871],\n",
       "       [0.83677222, 0.16322778],\n",
       "       [0.36229668, 0.63770332],\n",
       "       [0.65471625, 0.34528375],\n",
       "       [0.83386483, 0.16613517],\n",
       "       [0.28340661, 0.71659339],\n",
       "       [0.75972093, 0.24027907],\n",
       "       [0.33844375, 0.66155625],\n",
       "       [0.83524317, 0.16475683],\n",
       "       [0.38058499, 0.61941501],\n",
       "       [0.36978585, 0.63021415],\n",
       "       [0.83197978, 0.16802022],\n",
       "       [0.83483554, 0.16516446],\n",
       "       [0.82601495, 0.17398505],\n",
       "       [0.23971065, 0.76028935],\n",
       "       [0.84038096, 0.15961904],\n",
       "       [0.4098432 , 0.5901568 ],\n",
       "       [0.34069769, 0.65930231],\n",
       "       [0.34453518, 0.65546482],\n",
       "       [0.82171475, 0.17828525],\n",
       "       [0.37974769, 0.62025231],\n",
       "       [0.30016538, 0.69983462],\n",
       "       [0.14722749, 0.85277251],\n",
       "       [0.83347769, 0.16652231],\n",
       "       [0.84951282, 0.15048718],\n",
       "       [0.837895  , 0.162105  ],\n",
       "       [0.36664902, 0.63335098],\n",
       "       [0.01939397, 0.98060603],\n",
       "       [0.82436266, 0.17563734],\n",
       "       [0.86289963, 0.13710037],\n",
       "       [0.24787346, 0.75212654],\n",
       "       [0.74204549, 0.25795451],\n",
       "       [0.35176843, 0.64823157],\n",
       "       [0.83656044, 0.16343956],\n",
       "       [0.16758052, 0.83241948],\n",
       "       [0.85445232, 0.14554768],\n",
       "       [0.73984684, 0.26015316],\n",
       "       [0.79728968, 0.20271032],\n",
       "       [0.81299412, 0.18700588],\n",
       "       [0.49854415, 0.50145585],\n",
       "       [0.83484048, 0.16515952],\n",
       "       [0.81324639, 0.18675361],\n",
       "       [0.78830697, 0.21169303],\n",
       "       [0.85036448, 0.14963552],\n",
       "       [0.83602696, 0.16397304],\n",
       "       [0.37586642, 0.62413358],\n",
       "       [0.82982155, 0.17017845],\n",
       "       [0.36518375, 0.63481625],\n",
       "       [0.83864698, 0.16135302],\n",
       "       [0.82175463, 0.17824537],\n",
       "       [0.66520868, 0.33479132],\n",
       "       [0.84364665, 0.15635335],\n",
       "       [0.80785643, 0.19214357],\n",
       "       [0.85996634, 0.14003366],\n",
       "       [0.00563263, 0.99436737],\n",
       "       [0.83444392, 0.16555608],\n",
       "       [0.36697158, 0.63302842],\n",
       "       [0.85906241, 0.14093759],\n",
       "       [0.59686062, 0.40313938],\n",
       "       [0.76553612, 0.23446388],\n",
       "       [0.38509949, 0.61490051],\n",
       "       [0.82699734, 0.17300266],\n",
       "       [0.82888108, 0.17111892],\n",
       "       [0.82929321, 0.17070679],\n",
       "       [0.22842696, 0.77157304],\n",
       "       [0.84861355, 0.15138645],\n",
       "       [0.37139478, 0.62860522],\n",
       "       [0.86668525, 0.13331475],\n",
       "       [0.33896693, 0.66103307],\n",
       "       [0.83897855, 0.16102145],\n",
       "       [0.84558869, 0.15441131],\n",
       "       [0.07226079, 0.92773921],\n",
       "       [0.84431271, 0.15568729],\n",
       "       [0.82773576, 0.17226424],\n",
       "       [0.37765388, 0.62234612],\n",
       "       [0.3775117 , 0.6224883 ],\n",
       "       [0.25890452, 0.74109548],\n",
       "       [0.82994686, 0.17005314],\n",
       "       [0.8421247 , 0.1578753 ],\n",
       "       [0.847214  , 0.152786  ],\n",
       "       [0.83451235, 0.16548765],\n",
       "       [0.76318434, 0.23681566],\n",
       "       [0.20849702, 0.79150298],\n",
       "       [0.81150073, 0.18849927],\n",
       "       [0.73627476, 0.26372524],\n",
       "       [0.10709637, 0.89290363],\n",
       "       [0.54753168, 0.45246832],\n",
       "       [0.3147775 , 0.6852225 ],\n",
       "       [0.8341705 , 0.1658295 ],\n",
       "       [0.83174222, 0.16825778],\n",
       "       [0.04322372, 0.95677628]])"
      ]
     },
     "execution_count": 66,
     "metadata": {},
     "output_type": "execute_result"
    }
   ],
   "source": [
    "y_proba1 = log_model.predict_proba(X_test)\n",
    "y_proba1"
   ]
  },
  {
   "cell_type": "code",
   "execution_count": 57,
   "id": "91b60097",
   "metadata": {},
   "outputs": [
    {
     "name": "stdout",
     "output_type": "stream",
     "text": [
      "Matrice de confusion: \n",
      " [[104  12]\n",
      " [ 28  71]]\n",
      "Exactitude:  0.814\n"
     ]
    }
   ],
   "source": [
    "from sklearn import metrics\n",
    "\n",
    "print(\"Matrice de confusion: \\n\", metrics.confusion_matrix(y_test, y_pred1, labels=[0, 1]))\n",
    "print(\"Exactitude: \", \"%.3f\" % metrics.accuracy_score(y_test, y_pred1))"
   ]
  },
  {
   "cell_type": "markdown",
   "id": "82922427",
   "metadata": {},
   "source": [
    "__Exactitude ==> 81%__"
   ]
  },
  {
   "cell_type": "markdown",
   "id": "7704594c",
   "metadata": {},
   "source": [
    "#### Random Forest"
   ]
  },
  {
   "cell_type": "code",
   "execution_count": 58,
   "id": "05ee18a1",
   "metadata": {},
   "outputs": [
    {
     "data": {
      "text/plain": [
       "RandomForestClassifier(n_estimators=1000)"
      ]
     },
     "execution_count": 58,
     "metadata": {},
     "output_type": "execute_result"
    }
   ],
   "source": [
    "from sklearn.ensemble import RandomForestClassifier\n",
    "\n",
    "rf = RandomForestClassifier(n_estimators = 1000)\n",
    "rf.fit(X_train, y_train)"
   ]
  },
  {
   "cell_type": "code",
   "execution_count": 63,
   "id": "e5b9b3ff",
   "metadata": {},
   "outputs": [
    {
     "data": {
      "text/plain": [
       "array([0, 1, 0, 0, 0, 0, 0, 0, 0, 0, 1, 0, 0, 0, 1, 0, 1, 1, 0, 0, 0, 0,\n",
       "       0, 0, 0, 0, 1, 0, 0, 0, 0, 1, 0, 1, 0, 0, 1, 0, 0, 1, 1, 0, 1, 0,\n",
       "       0, 0, 1, 0, 0, 1, 1, 0, 0, 1, 1, 1, 1, 1, 1, 0, 1, 0, 1, 1, 0, 0,\n",
       "       1, 1, 0, 1, 1, 0, 1, 0, 0, 0, 1, 0, 1, 0, 0, 0, 0, 0, 0, 0, 1, 0,\n",
       "       0, 0, 0, 0, 0, 0, 0, 1, 1, 0, 0, 0, 1, 1, 0, 0, 0, 1, 0, 0, 0, 1,\n",
       "       0, 0, 0, 0, 1, 0, 0, 0, 0, 0, 0, 1, 0, 1, 1, 0, 0, 0, 0, 1, 0, 1,\n",
       "       0, 1, 0, 1, 0, 0, 1, 0, 1, 1, 1, 0, 1, 0, 1, 0, 0, 0, 0, 1, 0, 0,\n",
       "       1, 1, 1, 0, 0, 0, 0, 0, 0, 0, 0, 0, 1, 0, 0, 1, 0, 1, 0, 0, 0, 0,\n",
       "       0, 0, 1, 0, 0, 0, 1, 0, 0, 0, 0, 0, 1, 0, 0, 0, 1, 0, 0, 1, 0, 0,\n",
       "       1, 1, 0, 0, 0, 0, 0, 1, 1, 0, 0, 1, 0, 1, 0, 0, 1], dtype=int64)"
      ]
     },
     "execution_count": 63,
     "metadata": {},
     "output_type": "execute_result"
    }
   ],
   "source": [
    "y_pred2 = rf.predict(X_test)\n",
    "y_pred2"
   ]
  },
  {
   "cell_type": "code",
   "execution_count": 64,
   "id": "4b502ba4",
   "metadata": {},
   "outputs": [
    {
     "data": {
      "text/plain": [
       "array([[0.638     , 0.362     ],\n",
       "       [0.016     , 0.984     ],\n",
       "       [0.9625    , 0.0375    ],\n",
       "       [0.958     , 0.042     ],\n",
       "       [0.974     , 0.026     ],\n",
       "       [0.815     , 0.185     ],\n",
       "       [0.63575   , 0.36425   ],\n",
       "       [0.59      , 0.41      ],\n",
       "       [0.705     , 0.295     ],\n",
       "       [0.99033333, 0.00966667],\n",
       "       [0.439     , 0.561     ],\n",
       "       [0.971     , 0.029     ],\n",
       "       [0.99      , 0.01      ],\n",
       "       [0.991     , 0.009     ],\n",
       "       [0.33761667, 0.66238333],\n",
       "       [0.965     , 0.035     ],\n",
       "       [0.158     , 0.842     ],\n",
       "       [0.058     , 0.942     ],\n",
       "       [0.989     , 0.011     ],\n",
       "       [0.732     , 0.268     ],\n",
       "       [0.992     , 0.008     ],\n",
       "       [0.929     , 0.071     ],\n",
       "       [0.703     , 0.297     ],\n",
       "       [0.638     , 0.362     ],\n",
       "       [1.        , 0.        ],\n",
       "       [0.994     , 0.006     ],\n",
       "       [0.014     , 0.986     ],\n",
       "       [0.926     , 0.074     ],\n",
       "       [0.843     , 0.157     ],\n",
       "       [0.976     , 0.024     ],\n",
       "       [0.98665   , 0.01335   ],\n",
       "       [0.015     , 0.985     ],\n",
       "       [0.839     , 0.161     ],\n",
       "       [0.005     , 0.995     ],\n",
       "       [0.9535    , 0.0465    ],\n",
       "       [0.887     , 0.113     ],\n",
       "       [0.448     , 0.552     ],\n",
       "       [0.665     , 0.335     ],\n",
       "       [0.96876429, 0.03123571],\n",
       "       [0.084     , 0.916     ],\n",
       "       [0.42      , 0.58      ],\n",
       "       [0.85      , 0.15      ],\n",
       "       [0.38374286, 0.61625714],\n",
       "       [0.59      , 0.41      ],\n",
       "       [0.997     , 0.003     ],\n",
       "       [0.671     , 0.329     ],\n",
       "       [0.171     , 0.829     ],\n",
       "       [0.958     , 0.042     ],\n",
       "       [0.631     , 0.369     ],\n",
       "       [0.045     , 0.955     ],\n",
       "       [0.272     , 0.728     ],\n",
       "       [0.801     , 0.199     ],\n",
       "       [0.98558333, 0.01441667],\n",
       "       [0.025     , 0.975     ],\n",
       "       [0.092     , 0.908     ],\n",
       "       [0.1       , 0.9       ],\n",
       "       [0.073     , 0.927     ],\n",
       "       [0.032     , 0.968     ],\n",
       "       [0.059     , 0.941     ],\n",
       "       [0.95941667, 0.04058333],\n",
       "       [0.374     , 0.626     ],\n",
       "       [0.707     , 0.293     ],\n",
       "       [0.296     , 0.704     ],\n",
       "       [0.482     , 0.518     ],\n",
       "       [0.993     , 0.007     ],\n",
       "       [0.5029881 , 0.4970119 ],\n",
       "       [0.002     , 0.998     ],\n",
       "       [0.404     , 0.596     ],\n",
       "       [0.685     , 0.315     ],\n",
       "       [0.006     , 0.994     ],\n",
       "       [0.039     , 0.961     ],\n",
       "       [0.99      , 0.01      ],\n",
       "       [0.015     , 0.985     ],\n",
       "       [0.925     , 0.075     ],\n",
       "       [0.99288333, 0.00711667],\n",
       "       [0.55      , 0.45      ],\n",
       "       [0.406     , 0.594     ],\n",
       "       [0.88351667, 0.11648333],\n",
       "       [0.452     , 0.548     ],\n",
       "       [0.95      , 0.05      ],\n",
       "       [0.54988929, 0.45011071],\n",
       "       [0.977     , 0.023     ],\n",
       "       [0.855     , 0.145     ],\n",
       "       [0.771     , 0.229     ],\n",
       "       [1.        , 0.        ],\n",
       "       [0.993     , 0.007     ],\n",
       "       [0.314     , 0.686     ],\n",
       "       [0.525     , 0.475     ],\n",
       "       [0.81      , 0.19      ],\n",
       "       [0.993     , 0.007     ],\n",
       "       [0.99288333, 0.00711667],\n",
       "       [0.89      , 0.11      ],\n",
       "       [0.5029881 , 0.4970119 ],\n",
       "       [0.982     , 0.018     ],\n",
       "       [0.688     , 0.312     ],\n",
       "       [0.027     , 0.973     ],\n",
       "       [0.16100476, 0.83899524],\n",
       "       [0.972     , 0.028     ],\n",
       "       [0.933     , 0.067     ],\n",
       "       [0.852     , 0.148     ],\n",
       "       [0.146     , 0.854     ],\n",
       "       [0.284     , 0.716     ],\n",
       "       [0.86766667, 0.13233333],\n",
       "       [0.8975    , 0.1025    ],\n",
       "       [0.58189286, 0.41810714],\n",
       "       [0.093     , 0.907     ],\n",
       "       [0.641     , 0.359     ],\n",
       "       [0.732     , 0.268     ],\n",
       "       [0.523     , 0.477     ],\n",
       "       [0.034     , 0.966     ],\n",
       "       [0.711     , 0.289     ],\n",
       "       [0.5428    , 0.4572    ],\n",
       "       [0.582     , 0.418     ],\n",
       "       [0.998     , 0.002     ],\n",
       "       [0.259     , 0.741     ],\n",
       "       [0.662     , 0.338     ],\n",
       "       [0.528     , 0.472     ],\n",
       "       [0.51991071, 0.48008929],\n",
       "       [0.578     , 0.422     ],\n",
       "       [0.658     , 0.342     ],\n",
       "       [0.505     , 0.495     ],\n",
       "       [0.297     , 0.703     ],\n",
       "       [0.97      , 0.03      ],\n",
       "       [0.012     , 0.988     ],\n",
       "       [0.365     , 0.635     ],\n",
       "       [0.983     , 0.017     ],\n",
       "       [0.546     , 0.454     ],\n",
       "       [0.941     , 0.059     ],\n",
       "       [0.985     , 0.015     ],\n",
       "       [0.311     , 0.689     ],\n",
       "       [0.642     , 0.358     ],\n",
       "       [0.314     , 0.686     ],\n",
       "       [0.991     , 0.009     ],\n",
       "       [0.075     , 0.925     ],\n",
       "       [0.586     , 0.414     ],\n",
       "       [0.495     , 0.505     ],\n",
       "       [0.993     , 0.007     ],\n",
       "       [0.6960881 , 0.3039119 ],\n",
       "       [0.062     , 0.938     ],\n",
       "       [0.9854    , 0.0146    ],\n",
       "       [0.443     , 0.557     ],\n",
       "       [0.438     , 0.562     ],\n",
       "       [0.102     , 0.898     ],\n",
       "       [0.756     , 0.244     ],\n",
       "       [0.448     , 0.552     ],\n",
       "       [0.635     , 0.365     ],\n",
       "       [0.005     , 0.995     ],\n",
       "       [1.        , 0.        ],\n",
       "       [0.84125   , 0.15875   ],\n",
       "       [0.938     , 0.062     ],\n",
       "       [0.508     , 0.492     ],\n",
       "       [0.207     , 0.793     ],\n",
       "       [0.98566667, 0.01433333],\n",
       "       [0.989     , 0.011     ],\n",
       "       [0.036     , 0.964     ],\n",
       "       [0.27      , 0.73      ],\n",
       "       [0.282     , 0.718     ],\n",
       "       [0.725     , 0.275     ],\n",
       "       [0.605     , 0.395     ],\n",
       "       [0.81      , 0.19      ],\n",
       "       [0.724     , 0.276     ],\n",
       "       [0.541     , 0.459     ],\n",
       "       [0.959     , 0.041     ],\n",
       "       [0.804     , 0.196     ],\n",
       "       [0.975     , 0.025     ],\n",
       "       [0.981     , 0.019     ],\n",
       "       [0.446     , 0.554     ],\n",
       "       [0.83      , 0.17      ],\n",
       "       [0.979     , 0.021     ],\n",
       "       [0.281     , 0.719     ],\n",
       "       [0.659     , 0.341     ],\n",
       "       [0.182     , 0.818     ],\n",
       "       [0.58252143, 0.41747857],\n",
       "       [0.985     , 0.015     ],\n",
       "       [0.577     , 0.423     ],\n",
       "       [0.998     , 0.002     ],\n",
       "       [0.867     , 0.133     ],\n",
       "       [0.995     , 0.005     ],\n",
       "       [0.27      , 0.73      ],\n",
       "       [1.        , 0.        ],\n",
       "       [0.746     , 0.254     ],\n",
       "       [0.96318333, 0.03681667],\n",
       "       [0.474     , 0.526     ],\n",
       "       [0.828     , 0.172     ],\n",
       "       [0.711     , 0.289     ],\n",
       "       [0.801     , 0.199     ],\n",
       "       [0.999     , 0.001     ],\n",
       "       [0.98076667, 0.01923333],\n",
       "       [0.018     , 0.982     ],\n",
       "       [0.988     , 0.012     ],\n",
       "       [0.691     , 0.309     ],\n",
       "       [0.998     , 0.002     ],\n",
       "       [0.13      , 0.87      ],\n",
       "       [0.96041667, 0.03958333],\n",
       "       [1.        , 0.        ],\n",
       "       [0.374     , 0.626     ],\n",
       "       [0.999     , 0.001     ],\n",
       "       [0.97808333, 0.02191667],\n",
       "       [0.057     , 0.943     ],\n",
       "       [0.074     , 0.926     ],\n",
       "       [0.522     , 0.478     ],\n",
       "       [0.972     , 0.028     ],\n",
       "       [0.98973333, 0.01026667],\n",
       "       [0.97283333, 0.02716667],\n",
       "       [0.752     , 0.248     ],\n",
       "       [0.299     , 0.701     ],\n",
       "       [0.041     , 0.959     ],\n",
       "       [0.95      , 0.05      ],\n",
       "       [0.682     , 0.318     ],\n",
       "       [0.014     , 0.986     ],\n",
       "       [0.816     , 0.184     ],\n",
       "       [0.29      , 0.71      ],\n",
       "       [0.993     , 0.007     ],\n",
       "       [0.976     , 0.024     ],\n",
       "       [0.043     , 0.957     ]])"
      ]
     },
     "execution_count": 64,
     "metadata": {},
     "output_type": "execute_result"
    }
   ],
   "source": [
    "y_proba2 = rf.predict_proba(X_test)\n",
    "y_proba2"
   ]
  },
  {
   "cell_type": "code",
   "execution_count": 61,
   "id": "6e4d6c7f",
   "metadata": {},
   "outputs": [
    {
     "name": "stdout",
     "output_type": "stream",
     "text": [
      "Matrice de confusion: \n",
      " [[103  13]\n",
      " [ 41  58]]\n",
      "Exactitude:  0.749\n"
     ]
    }
   ],
   "source": [
    "print(\"Matrice de confusion: \\n\", metrics.confusion_matrix(y_test, y_pred2, labels=[0, 1]))\n",
    "print(\"Exactitude: \", \"%.3f\" % metrics.accuracy_score(y_test, y_pred2))"
   ]
  },
  {
   "cell_type": "markdown",
   "id": "da1e6470",
   "metadata": {},
   "source": [
    "__Exactitude ==> 75%__"
   ]
  },
  {
   "cell_type": "markdown",
   "id": "fa53e4a2",
   "metadata": {},
   "source": [
    "Linear Regression > Random Forest"
   ]
  }
 ],
 "metadata": {
  "kernelspec": {
   "display_name": "Python 3 (ipykernel)",
   "language": "python",
   "name": "python3"
  },
  "language_info": {
   "codemirror_mode": {
    "name": "ipython",
    "version": 3
   },
   "file_extension": ".py",
   "mimetype": "text/x-python",
   "name": "python",
   "nbconvert_exporter": "python",
   "pygments_lexer": "ipython3",
   "version": "3.10.2"
  }
 },
 "nbformat": 4,
 "nbformat_minor": 5
}
